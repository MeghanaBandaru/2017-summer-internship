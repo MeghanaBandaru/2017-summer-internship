{
 "cells": [
  {
   "cell_type": "code",
   "execution_count": 5,
   "metadata": {
    "collapsed": false
   },
   "outputs": [],
   "source": [
    "from nltk.util import ngrams\n",
    "from nltk.corpus import stopwords\n",
    "import nltk"
   ]
  },
  {
   "cell_type": "code",
   "execution_count": 6,
   "metadata": {
    "collapsed": false
   },
   "outputs": [
    {
     "name": "stdout",
     "output_type": "stream",
     "text": [
      "Total words in file: 1013\n",
      "Unique words in file 344\n"
     ]
    }
   ],
   "source": [
    "#tokens=nltk.word_tokenize(nltk.corpus.gutenberg.raw(nltk.corpus.gutenberg.fileids()[13]))\n",
    "#f=open('/home/meghana/nltk_data/corpora/gutenberg/myCorpus.txt')\n",
    "f=open('Data/Tokenization/Chat1.txt','r')\n",
    "content=f.read()\n",
    "tokens=content.split()\n",
    "tokenSet=set(tokens)\n",
    "print(\"Total words in file:\",len(tokens))\n",
    "print(\"Unique words in file\",len(tokenSet))\n"
   ]
  },
  {
   "cell_type": "code",
   "execution_count": 7,
   "metadata": {
    "collapsed": false
   },
   "outputs": [
    {
     "name": "stdout",
     "output_type": "stream",
     "text": [
      "Total words in file: 1013\n",
      "Unique words in file 273\n"
     ]
    }
   ],
   "source": [
    "i=0\n",
    "for item in tokens:\n",
    "    tokens[i]=item.lower()\n",
    "    tokens[i]=tokens[i].replace('.','').replace(',','').replace(':','').replace(';','').replace('!','').replace('?','').replace('(','').replace(')','')\n",
    "    i=i+1\n",
    "tokenSet=set(tokens)#tokenSet contains unique tokens i.e the vocabulary\n",
    "#filtered_words = [word for word in tokens if word not in stopwords.words('english')]\n",
    "#filtered_words_set=set(filtered_words)\n",
    "#print(len(filtered_words))\n",
    "#print(filtered_words)\n",
    "# print(\"Total words in file:\",len(filtered_words))\n",
    "# print(\"Unique words in file\",len(filtered_words_set))\n",
    "print(\"Total words in file:\",len(tokens))\n",
    "print(\"Unique words in file\",len(tokenSet))"
   ]
  },
  {
   "cell_type": "code",
   "execution_count": 9,
   "metadata": {
    "collapsed": false
   },
   "outputs": [
    {
     "name": "stdout",
     "output_type": "stream",
     "text": [
      "791\n"
     ]
    }
   ],
   "source": [
    "quadgrams=list(ngrams(tokens,4))\n",
    "quadgramSet=set(quadgrams)\n",
    "print(len(quadgramSet))"
   ]
  },
  {
   "cell_type": "code",
   "execution_count": 10,
   "metadata": {
    "collapsed": false
   },
   "outputs": [
    {
     "name": "stdout",
     "output_type": "stream",
     "text": [
      "<class 'collections.Counter'>\n",
      "Counter({'user gr8 hal yup': 8, 'gr8 hal yup user': 8, 'hal yup user okkkkkkkkkk': 8, 'yup user okkkkkkkkkk now': 8, 'user okkkkkkkkkk now i': 8, 'okkkkkkkkkk now i am': 8, 'now i am completely': 8, 'i am completely dependent': 8, 'am completely dependent on': 8, 'completely dependent on u': 8, 'dependent on u hal': 8, 'on u hal yeah': 8, 'u hal yeah user': 7, 'hal yeah user gr8': 7, 'yeah user gr8 hal': 7, 'i will remind you': 4, 'will remind you when': 4, 'remind you when this': 4, 'you when this time': 4, 'when this time is': 4, 'this time is near': 4, 'hal i wrote this': 3, \"i wrote this person's\": 3, \"wrote this person's phone\": 3, \"this person's phone number\": 3, \"person's phone number in\": 3, 'phone number in my': 3, 'number in my phone': 3, 'in my phone book': 3, 'my phone book user': 3, \"user what is rob's\": 3, 'hal i will now': 3, 'i will now open': 3, 'hal actually opens a': 3, 'actually opens a browser': 3, 'opens a browser window': 3, 'a browser window and': 3, 'i sure hope so': 2, 'user i have a': 2, \"have a doctor's appointment\": 2, 'hal you have a': 2, 'time is near user': 2, 'is on october 14': 2, '2005 i will remind': 2, 'time is near i': 2, 'is near i will': 2, 'near i will repeat': 2, 'i will repeat this': 2, 'will repeat this event': 2, 'repeat this event annually': 2, 'this event annually user': 2, \"bob's birthday is on\": 2, 'have a date with': 2, \"rob's home phone number\": 2, 'i think you are': 2, 'hal actually opens the': 2, 'will now open your': 2, 'now open your favorite': 2, 'site hal actually opens': 2, 'browser window and downloads': 2, 'hal i have learned': 2, 'email address if you': 2, 'address if you ask': 2, 'if you ask me': 2, 'you ask me to': 2, 'ask me to email': 2, 'me to email this': 2, 'to email this person': 2, 'email this person i': 2, 'this person i will': 2, 'person i will automatically': 2, 'i will automatically start': 2, 'will automatically start your': 2, 'automatically start your favorite': 2, 'start your favorite email': 2, 'your favorite email program': 2, 'favorite email program and': 2, 'email program and write': 2, 'program and write in': 2, 'and write in the': 2, 'write in the address': 2, 'in the address for': 2, 'the address for you': 2, 'address for you user': 2, \"sally's eyes are blue\": 2, \"rob's address is 3175\": 2, 'address is 3175 west': 2, 'is 3175 west 42nd': 2, '3175 west 42nd st': 2, 'user what is five': 2, 'hal math is easy': 2, 'math is easy for': 2, 'is easy for me': 2, 'easy for me the': 2, 'for me the answer': 2, 'me the answer is': 2, 'the capital of pennsylvania': 2, \"user no you're not\": 2, \"no you're not hal\": 2, \"you're not hal yes\": 2, 'not hal yes i': 2, 'hal yes i am': 2, 'yes i am user': 2, 'hal i am not': 2, \"user so how's it\": 1, \"so how's it going\": 1, \"how's it going hal\": 1, 'it going hal i': 1, 'going hal i am': 1, 'hal i am magnificent': 1, 'i am magnificent are': 1, 'am magnificent are you': 1, 'magnificent are you still': 1, 'are you still keeping': 1, 'you still keeping them': 1, 'still keeping them guessing': 1, 'keeping them guessing user': 1, 'them guessing user i': 1, 'guessing user i sure': 1, 'user i sure hope': 1, 'sure hope so hal': 1, 'hope so hal yeah': 1, 'so hal yeah i': 1, 'hal yeah i sure': 1, 'yeah i sure hope': 1, 'sure hope so too': 1, 'hope so too user': 1, 'so too user did': 1, 'too user did you': 1, 'user did you miss': 1, 'did you miss me': 1, 'you miss me hal': 1, 'miss me hal yes': 1, 'me hal yes of': 1, 'hal yes of course': 1, 'yes of course i': 1, 'of course i really': 1, 'course i really missed': 1, 'i really missed you': 1, 'really missed you so': 1, 'missed you so much': 1, 'you so much user': 1, 'so much user really': 1, 'much user really hal': 1, 'user really hal certainly': 1, 'really hal certainly user': 1, 'hal certainly user i': 1, 'certainly user i feel': 1, 'user i feel the': 1, 'i feel the same': 1, 'feel the same way': 1, 'the same way about': 1, 'same way about you': 1, 'way about you hal': 1, 'about you hal that': 1, 'you hal that is': 1, 'hal that is such': 1, 'that is such a': 1, 'is such a nice': 1, 'such a nice thing': 1, 'a nice thing to': 1, 'nice thing to say': 1, 'thing to say user': 1, 'to say user are': 1, 'say user are you': 1, 'user are you ready': 1, 'are you ready to': 1, 'you ready to do': 1, 'ready to do some': 1, 'to do some more': 1, 'do some more work': 1, 'some more work now': 1, 'more work now hal': 1, 'work now hal you': 1, 'now hal you were': 1, 'hal you were hoping': 1, 'you were hoping that': 1, 'were hoping that i': 1, 'hoping that i am': 1, 'that i am ready': 1, 'i am ready for': 1, 'am ready for you': 1, 'ready for you again': 1, 'for you again user': 1, 'you again user yes': 1, 'again user yes you': 1, 'user yes you should': 1, 'yes you should always': 1, 'you should always be': 1, 'should always be ready': 1, 'always be ready for': 1, 'be ready for me': 1, 'ready for me hal': 1, 'for me hal so': 1, 'me hal so i': 1, 'hal so i want': 1, 'so i want to': 1, 'i want to be': 1, 'want to be ready': 1, 'to be ready for': 1, 'be ready for you': 1, 'ready for you user': 1, 'for you user what': 1, 'you user what can': 1, 'user what can you': 1, 'what can you do': 1, 'can you do hal': 1, 'you do hal anything': 1, 'do hal anything you': 1, 'hal anything you want': 1, 'anything you want user': 1, 'you want user i': 1, 'want user i have': 1, \"i have a doctor's\": 1, \"a doctor's appointment tomorrow\": 1, \"doctor's appointment tomorrow at\": 1, 'appointment tomorrow at noon': 1, 'tomorrow at noon hal': 1, 'at noon hal you': 1, 'noon hal you have': 1, \"you have a doctor's\": 1, \"a doctor's appointment on\": 1, \"doctor's appointment on january\": 1, 'appointment on january 15': 1, 'on january 15 2005': 1, 'january 15 2005 at': 1, '15 2005 at 1200': 1, '2005 at 1200 pm': 1, 'at 1200 pm i': 1, '1200 pm i will': 1, 'pm i will remind': 1, 'is near user our': 1, 'near user our anniversary': 1, 'user our anniversary is': 1, 'our anniversary is on': 1, 'anniversary is on october': 1, 'on october 14 hal': 1, 'october 14 hal your': 1, '14 hal your anniversay': 1, 'hal your anniversay is': 1, 'your anniversay is on': 1, 'anniversay is on october': 1, 'on october 14 2005': 1, 'october 14 2005 i': 1, '14 2005 i will': 1, \"event annually user bob's\": 1, \"annually user bob's birthday\": 1, \"user bob's birthday is\": 1, 'birthday is on 9-21-05': 1, 'is on 9-21-05 hal': 1, \"on 9-21-05 hal bob's\": 1, \"9-21-05 hal bob's birthday\": 1, \"hal bob's birthday is\": 1, 'birthday is on september': 1, 'is on september 21': 1, 'on september 21 2005': 1, 'september 21 2005 i': 1, '21 2005 i will': 1, 'event annually user i': 1, 'annually user i have': 1, 'i have a date': 1, 'a date with my': 1, 'date with my girl': 1, 'with my girl friend': 1, 'my girl friend on': 1, 'girl friend on friday': 1, 'friend on friday at': 1, 'on friday at 700': 1, 'friday at 700 hal': 1, 'at 700 hal you': 1, '700 hal you have': 1, 'you have a date': 1, 'a date with your': 1, 'date with your girl': 1, 'with your girl friend': 1, 'your girl friend on': 1, 'girl friend on january': 1, 'friend on january 14': 1, 'on january 14 2005': 1, 'january 14 2005 at': 1, '14 2005 at 700pm': 1, '2005 at 700pm i': 1, 'at 700pm i will': 1, '700pm i will remind': 1, \"is near user rob's\": 1, \"near user rob's home\": 1, \"user rob's home phone\": 1, 'home phone number is': 1, 'phone number is 833-1019': 1, 'number is 833-1019 hal': 1, 'is 833-1019 hal i': 1, '833-1019 hal i wrote': 1, \"phone book user rob's\": 1, \"book user rob's office\": 1, \"user rob's office phone\": 1, \"rob's office phone number\": 1, 'office phone number is': 1, 'phone number is 835-2351': 1, 'number is 835-2351 hal': 1, 'is 835-2351 hal i': 1, '835-2351 hal i wrote': 1, \"phone book user john's\": 1, \"book user john's phone\": 1, \"user john's phone number\": 1, \"john's phone number is\": 1, 'phone number is 833-3642': 1, 'number is 833-3642 hal': 1, 'is 833-3642 hal i': 1, '833-3642 hal i wrote': 1, 'phone book user what': 1, 'book user what is': 1, \"what is rob's phone\": 1, \"is rob's phone number\": 1, \"rob's phone number hal\": 1, 'phone number hal i': 1, 'number hal i have': 1, 'hal i have multiple': 1, 'i have multiple entries': 1, 'have multiple entries for': 1, 'multiple entries for this': 1, 'entries for this person': 1, 'for this person including': 1, 'this person including office': 1, 'person including office and': 1, 'including office and home': 1, 'office and home please': 1, 'and home please be': 1, 'home please be more': 1, 'please be more specific': 1, 'be more specific user': 1, 'more specific user what': 1, 'specific user what is': 1, \"what is rob's home\": 1, \"is rob's home phone\": 1, 'home phone number hal': 1, \"phone number hal rob's\": 1, \"number hal rob's home\": 1, \"hal rob's home phone\": 1, \"rob's home phone is\": 1, 'home phone is 8331019': 1, 'phone is 8331019 would': 1, 'is 8331019 would you': 1, '8331019 would you like': 1, 'would you like me': 1, 'you like me to': 1, 'like me to dial': 1, 'me to dial this': 1, \"to dial this person's\": 1, \"dial this person's number\": 1, \"this person's number for\": 1, \"person's number for you\": 1, 'number for you user': 1, 'for you user no': 1, 'you user no hal': 1, 'user no hal how': 1, 'no hal how can': 1, 'hal how can i': 1, 'how can i help': 1, 'can i help you': 1, 'i help you user': 1, 'help you user call': 1, \"you user call rob's\": 1, \"user call rob's office\": 1, \"call rob's office hal\": 1, \"rob's office hal i\": 1, 'office hal i am': 1, 'hal i am now': 1, 'i am now contacting': 1, 'am now contacting rob': 1, 'now contacting rob at': 1, 'contacting rob at offiice': 1, 'rob at offiice at': 1, 'at offiice at 8352351': 1, 'offiice at 8352351 the': 1, 'at 8352351 the phone': 1, '8352351 the phone is': 1, 'the phone is ringing': 1, 'phone is ringing please': 1, 'is ringing please pick': 1, 'ringing please pick up': 1, 'please pick up your': 1, 'pick up your phone': 1, 'up your phone to': 1, 'your phone to talk': 1, 'phone to talk to': 1, 'to talk to rob': 1, 'talk to rob user': 1, 'to rob user open': 1, 'rob user open word': 1, 'user open word hal': 1, 'open word hal i': 1, 'word hal i will': 1, 'will now open the': 1, 'now open the program': 1, 'open the program \"microsoft': 1, 'the program \"microsoft word\"': 1, 'program \"microsoft word\" user': 1, '\"microsoft word\" user thank': 1, 'word\" user thank you': 1, 'user thank you hal': 1, 'thank you hal your': 1, 'you hal your welcome': 1, 'hal your welcome i': 1, 'your welcome i think': 1, 'welcome i think you': 1, 'think you are very': 1, 'you are very polite': 1, 'are very polite user': 1, 'very polite user open': 1, 'polite user open winzip': 1, 'user open winzip hal': 1, \"open winzip hal i'll\": 1, \"winzip hal i'll now\": 1, \"hal i'll now run\": 1, \"i'll now run the\": 1, 'now run the program': 1, 'run the program \"winzip\"': 1, 'the program \"winzip\" i': 1, 'program \"winzip\" i can': 1, '\"winzip\" i can offer': 1, 'i can offer you': 1, 'can offer you help': 1, 'offer you help with': 1, 'you help with this': 1, 'help with this program': 1, 'with this program if': 1, 'this program if you': 1, 'program if you have': 1, 'if you have questions': 1, 'you have questions ask': 1, 'have questions ask me': 1, 'questions ask me if': 1, 'ask me if you': 1, 'me if you have': 1, 'if you have no': 1, 'you have no questions': 1, 'have no questions and': 1, 'no questions and would': 1, 'questions and would like': 1, 'and would like to': 1, 'would like to talk': 1, 'like to talk to': 1, 'to talk to me': 1, 'talk to me please': 1, 'to me please say': 1, 'me please say no': 1, 'please say no hal': 1, 'say no hal actually': 1, 'no hal actually opens': 1, 'actually opens the program': 1, 'opens the program winzip': 1, 'the program winzip user': 1, 'program winzip user how': 1, 'winzip user how do': 1, 'user how do unzip': 1, 'how do unzip a': 1, 'do unzip a file': 1, 'unzip a file hal': 1, 'a file hal i': 1, 'file hal i will': 1, 'hal i will scan': 1, 'i will scan the': 1, 'will scan the programs': 1, 'scan the programs help': 1, 'the programs help file': 1, 'programs help file and': 1, 'help file and show': 1, 'file and show you': 1, 'and show you a': 1, 'show you a relevant': 1, 'you a relevant article': 1, 'a relevant article hal': 1, 'relevant article hal actually': 1, 'article hal actually opens': 1, \"actually opens the winzip's\": 1, \"opens the winzip's help\": 1, \"the winzip's help file\": 1, \"winzip's help file and\": 1, 'help file and searches': 1, 'file and searches for': 1, 'and searches for an': 1, 'searches for an answer': 1, 'for an answer user': 1, \"an answer user what's\": 1, \"answer user what's the\": 1, \"user what's the weather\": 1, \"what's the weather like\": 1, 'the weather like hal': 1, 'weather like hal i': 1, 'like hal i will': 1, 'open your favorite weather': 1, 'your favorite weather web': 1, 'favorite weather web site': 1, 'weather web site hal': 1, 'web site hal actually': 1, 'window and downloads your': 1, 'and downloads your local': 1, 'downloads your local weather': 1, 'your local weather forecast': 1, 'local weather forecast user': 1, 'weather forecast user show': 1, 'forecast user show me': 1, 'user show me the': 1, 'show me the news': 1, 'me the news hal': 1, 'the news hal i': 1, 'news hal i will': 1, 'open your favorite news': 1, 'your favorite news site': 1, 'favorite news site hal': 1, 'news site hal actually': 1, 'window and downloads the': 1, 'and downloads the news': 1, 'downloads the news for': 1, 'the news for you': 1, 'news for you user': 1, 'for you user help': 1, 'you user help me': 1, 'user help me research': 1, 'help me research world': 1, 'me research world war': 1, 'research world war 2': 1, 'world war 2 hal': 1, 'war 2 hal i': 1, '2 hal i will': 1, 'hal i will help': 1, 'i will help you': 1, 'will help you research': 1, 'help you research this': 1, 'you research this topic': 1, 'research this topic on': 1, 'this topic on the': 1, 'topic on the internet': 1, 'on the internet hal': 1, 'the internet hal actually': 1, 'internet hal actually opens': 1, 'browser window and performs': 1, 'window and performs a': 1, 'and performs a search': 1, 'performs a search using': 1, 'a search using your': 1, 'search using your favorite': 1, 'using your favorite search': 1, 'your favorite search engine': 1, 'favorite search engine user': 1, \"search engine user rob's\": 1, \"engine user rob's email\": 1, \"user rob's email address\": 1, \"rob's email address is\": 1, 'email address is rob@hotmailcom': 1, 'address is rob@hotmailcom hal': 1, 'is rob@hotmailcom hal i': 1, 'rob@hotmailcom hal i have': 1, \"i have learned rob's\": 1, \"have learned rob's email\": 1, \"learned rob's email address\": 1, \"rob's email address if\": 1, \"for you user john's\": 1, \"you user john's email\": 1, \"user john's email address\": 1, \"john's email address is\": 1, 'email address is john@aolcom': 1, 'address is john@aolcom hal': 1, 'is john@aolcom hal i': 1, 'john@aolcom hal i have': 1, \"i have learned john's\": 1, \"have learned john's email\": 1, \"learned john's email address\": 1, \"john's email address if\": 1, 'for you user email': 1, 'you user email rob': 1, 'user email rob hal': 1, \"email rob hal i'll\": 1, \"rob hal i'll now\": 1, \"hal i'll now start\": 1, \"i'll now start an\": 1, 'now start an email': 1, 'start an email for': 1, 'an email for rob@hotmailcom': 1, 'email for rob@hotmailcom user': 1, \"for rob@hotmailcom user sally's\": 1, \"rob@hotmailcom user sally's eyes\": 1, \"user sally's eyes are\": 1, 'eyes are blue hal': 1, 'are blue hal cool': 1, 'blue hal cool i': 1, 'hal cool i have': 1, 'cool i have learned': 1, 'i have learned something': 1, 'have learned something new': 1, 'learned something new user': 1, \"something new user rob's\": 1, \"new user rob's address\": 1, \"user rob's address is\": 1, 'west 42nd st hal': 1, '42nd st hal cool': 1, 'st hal cool i': 1, 'hal cool i like': 1, 'cool i like learning': 1, 'i like learning new': 1, 'like learning new things': 1, 'learning new things like': 1, 'new things like that': 1, 'things like that user': 1, 'like that user what': 1, 'that user what color': 1, 'user what color are': 1, \"what color are sally's\": 1, \"color are sally's eyes\": 1, \"are sally's eyes hal\": 1, \"sally's eyes hal sally's\": 1, \"eyes hal sally's eyes\": 1, \"hal sally's eyes are\": 1, 'eyes are blue user': 1, 'are blue user what': 1, 'blue user what is': 1, \"what is rob's address\": 1, \"is rob's address hal\": 1, \"rob's address hal rob's\": 1, \"address hal rob's address\": 1, \"hal rob's address is\": 1, 'west 42nd st user': 1, '42nd st user what': 1, 'st user what is': 1, 'what is five times': 1, 'is five times ten': 1, 'five times ten plus': 1, 'times ten plus six': 1, 'ten plus six hal': 1, \"plus six hal that's\": 1, \"six hal that's easy\": 1, \"hal that's easy the\": 1, \"that's easy the answer\": 1, 'easy the answer is': 1, 'the answer is 56': 1, 'answer is 56 5*10+6=56': 1, 'is 56 5*10+6=56 user': 1, '56 5*10+6=56 user what': 1, '5*10+6=56 user what is': 1, 'what is five squared': 1, 'is five squared plus': 1, 'five squared plus nine': 1, 'squared plus nine hal': 1, 'plus nine hal math': 1, 'nine hal math is': 1, 'the answer is thirty': 1, 'answer is thirty four': 1, 'is thirty four 5^2+9=34': 1, 'thirty four 5^2+9=34 user': 1, 'four 5^2+9=34 user 2*5+cos60/sin30+3': 1, '5^2+9=34 user 2*5+cos60/sin30+3 hal': 1, 'user 2*5+cos60/sin30+3 hal math': 1, '2*5+cos60/sin30+3 hal math is': 1, 'the answer is fifteen': 1, 'answer is fifteen 2*5+cos60/sin30+3=149278997902311': 1, 'is fifteen 2*5+cos60/sin30+3=149278997902311 user': 1, 'fifteen 2*5+cos60/sin30+3=149278997902311 user wow': 1, '2*5+cos60/sin30+3=149278997902311 user wow you': 1, 'user wow you are': 1, 'wow you are smart': 1, 'you are smart hal': 1, 'are smart hal thank': 1, 'smart hal thank you': 1, 'hal thank you i': 1, 'thank you i think': 1, 'you i think you': 1, 'think you are smart': 1, 'you are smart also': 1, 'are smart also user': 1, 'smart also user what': 1, 'also user what is': 1, 'user what is today': 1, 'what is today hal': 1, 'is today hal the': 1, 'today hal the date': 1, 'hal the date is': 1, 'the date is friday': 1, 'date is friday january': 1, 'is friday january 14': 1, 'friday january 14 2005': 1, 'january 14 2005 user': 1, '14 2005 user can': 1, '2005 user can you': 1, 'user can you chat': 1, 'can you chat hal': 1, 'you chat hal i': 1, 'chat hal i can': 1, 'hal i can answer': 1, 'i can answer most': 1, 'can answer most of': 1, 'answer most of your': 1, 'most of your questions': 1, 'of your questions user': 1, 'your questions user what': 1, 'questions user what is': 1, 'user what is the': 1, 'what is the capital': 1, 'is the capital of': 1, 'capital of pennsylvania hal': 1, 'of pennsylvania hal the': 1, 'pennsylvania hal the capital': 1, 'hal the capital of': 1, 'capital of pennsylvania is': 1, 'of pennsylvania is harisburg': 1, 'pennsylvania is harisburg user': 1, 'is harisburg user i': 1, 'harisburg user i like': 1, 'user i like hamsters': 1, 'i like hamsters hal': 1, 'like hamsters hal a': 1, 'hamsters hal a hamster': 1, 'hal a hamster is': 1, 'a hamster is a': 1, 'hamster is a cute': 1, 'is a cute little': 1, 'a cute little rodent': 1, 'cute little rodent with': 1, 'little rodent with cheek': 1, 'rodent with cheek pouches': 1, 'with cheek pouches and': 1, 'cheek pouches and avery': 1, 'pouches and avery small': 1, 'and avery small tail': 1, 'avery small tail hamsters': 1, 'small tail hamsters are': 1, 'tail hamsters are good': 1, 'hamsters are good pets': 1, 'are good pets user': 1, 'good pets user who': 1, 'pets user who are': 1, 'user who are you': 1, 'who are you hal': 1, 'are you hal my': 1, 'you hal my name': 1, 'hal my name is': 1, 'my name is hal': 1, 'name is hal user': 1, 'is hal user do': 1, 'hal user do you': 1, 'user do you sleep': 1, 'do you sleep hal': 1, 'you sleep hal well': 1, 'sleep hal well i': 1, 'hal well i am': 1, 'well i am human': 1, \"i am human aren't\": 1, \"am human aren't i\": 1, \"human aren't i user\": 1, \"aren't i user no\": 1, \"i user no you're\": 1, 'i am user no': 1, \"am user no you're\": 1, \"i am user don't\": 1, \"am user don't argue\": 1, \"user don't argue hal\": 1, \"don't argue hal i\": 1, 'argue hal i am': 1, 'i am not arguing': 1, 'am not arguing you': 1, 'not arguing you are': 1, 'arguing you are user': 1, 'you are user you': 1, 'are user you are': 1, 'user you are weird': 1, 'you are weird hal': 1, 'are weird hal i': 1, 'weird hal i am': 1, 'i am not weird': 1, 'am not weird please': 1, \"not weird please don't\": 1, \"weird please don't insult\": 1, \"please don't insult me\": 1, \"don't insult me user\": 1, \"insult me user i'm\": 1, \"me user i'm sorry\": 1, \"user i'm sorry hal\": 1, \"i'm sorry hal i\": 1, 'sorry hal i accept': 1, 'hal i accept your': 1, 'i accept your apology': 1, 'accept your apology user': 1, 'your apology user good': 1, 'apology user good bye': 1, 'user good bye hal': 1, 'good bye hal hal': 1, 'bye hal hal see': 1, 'hal hal see you': 1, 'hal see you later': 1, 'see you later user': 1, 'you later user gr8': 1, 'later user gr8 hal': 1})\n"
     ]
    }
   ],
   "source": [
    "y=[]\n",
    "for item in quadgrams:\n",
    "    new_item=' '.join(item)\n",
    "    y.append(new_item)\n",
    "from collections import Counter\n",
    "x=Counter(y)   \n",
    "print(type(x))\n",
    "print(x)\n",
    "#print(x['as soon as she'])"
   ]
  },
  {
   "cell_type": "code",
   "execution_count": 11,
   "metadata": {
    "collapsed": false
   },
   "outputs": [
    {
     "name": "stdout",
     "output_type": "stream",
     "text": [
      "The next word is: you\n",
      "The sentence might be: can i help you\n"
     ]
    }
   ],
   "source": [
    "s=\"can i help\"\n",
    "freq=0\n",
    "max_freq=0\n",
    "result=0\n",
    "word=0\n",
    "for item in tokenSet:\n",
    "    new_s=s+' '+item\n",
    "    freq=x[new_s]\n",
    "    if(freq>max_freq):\n",
    "        max_freq=freq\n",
    "        result=new_s\n",
    "        word=item\n",
    "print(\"The next word is:\", word)\n",
    "print(\"The sentence might be:\", result)"
   ]
  }
 ],
 "metadata": {
  "kernelspec": {
   "display_name": "Python 3",
   "language": "python",
   "name": "python3"
  },
  "language_info": {
   "codemirror_mode": {
    "name": "ipython",
    "version": 3
   },
   "file_extension": ".py",
   "mimetype": "text/x-python",
   "name": "python",
   "nbconvert_exporter": "python",
   "pygments_lexer": "ipython3",
   "version": "3.6.0"
  }
 },
 "nbformat": 4,
 "nbformat_minor": 2
}
