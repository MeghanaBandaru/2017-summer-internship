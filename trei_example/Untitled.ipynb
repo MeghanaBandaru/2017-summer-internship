{
 "cells": [
  {
   "cell_type": "code",
   "execution_count": 18,
   "metadata": {
    "collapsed": true
   },
   "outputs": [],
   "source": [
    "from nltk.util import ngrams\n",
    "from nltk.corpus import stopwords\n",
    "import nltk\n",
    "from collections import Counter\n",
    "from collections import defaultdict"
   ]
  },
  {
   "cell_type": "code",
   "execution_count": 7,
   "metadata": {
    "collapsed": false
   },
   "outputs": [],
   "source": [
    "# _end = '_end_'\n",
    "\n",
    "# def make_trie(*words):\n",
    "#     root = dict()\n",
    "#     for word in words:\n",
    "#         current_dict = root\n",
    "#         for letter in word:\n",
    "#             current_dict = current_dict.setdefault(letter, {})\n",
    "#         current_dict[_end] = _end\n",
    "#     return root\n",
    " \n",
    "# make_trie('foo', 'bar', 'baz', 'barz')"
   ]
  },
  {
   "cell_type": "code",
   "execution_count": 19,
   "metadata": {
    "collapsed": true
   },
   "outputs": [],
   "source": [
    "tokens=[]\n",
    "with open('/home/meghana/nltk_data/corpora/gutenberg/corpusfile.txt') as f:\n",
    "    for line in f:\n",
    "        if not line.isspace():\n",
    "            line=line.lower()\n",
    "            line=line.replace('.',' ').replace(',',' ').replace(':',' ').replace(';',' ').replace('!',' ').replace('?',' ').replace('(',' ').replace(')',' ').replace(\"-\",\" \").replace(\"' \",' ').replace('\"',' ').replace(\"_\",\" \").replace('[',' ').replace(']',\" \").replace('{',' ').replace('}',\" \").replace('*',' ')   \n",
    "        items=line.split()\n",
    "        tokens+=items \n",
    "tokenSet=set(tokens)"
   ]
  },
  {
   "cell_type": "code",
   "execution_count": 20,
   "metadata": {
    "collapsed": false
   },
   "outputs": [
    {
     "name": "stdout",
     "output_type": "stream",
     "text": [
      "1416295\n",
      "1857535\n"
     ]
    }
   ],
   "source": [
    "trigrams=list(ngrams(tokens,3))\n",
    "trigramSet=set(trigrams)\n",
    "quadgrams=list(ngrams(tokens,4))\n",
    "quadgramSet=set(quadgrams)\n",
    "\n",
    "print(len(trigramSet))\n",
    "print(len(quadgramSet))"
   ]
  },
  {
   "cell_type": "code",
   "execution_count": 10,
   "metadata": {
    "collapsed": true
   },
   "outputs": [],
   "source": [
    "trigram_table=Counter(trigrams)#stores the frequencies of each trigram\n",
    "quadgram_table=Counter(quadgrams)#stores the frequencies of each quadgram\n",
    "\n",
    "for key in quadgram_table:\n",
    "    tri=key[0:3]\n",
    "    quadgram_table[key]=(quadgram_table[key]/trigram_table[tri])#Now the quadgram table will contain probabilities of each quadgram\n",
    "\n",
    "prob_table = defaultdict(dict)\n",
    "\n",
    "#Constructing a probabiltity table which looks like this:\n",
    "#{tri1:{token1:0.2, token5:0.5, tokenn:0.3}\n",
    "# tri2:{........}\n",
    "# tri3:{        }\n",
    "# .....\n",
    "# trin:{........}}\n",
    "for quad in quadgram_table:\n",
    "    p=quadgram_table[quad]\n",
    "    tri=quad[0:3]\n",
    "    token=quad[3]\n",
    "    prob_table[tri][token]=p"
   ]
  },
  {
   "cell_type": "code",
   "execution_count": 26,
   "metadata": {
    "collapsed": false
   },
   "outputs": [
    {
     "name": "stdout",
     "output_type": "stream",
     "text": [
      "{'by': {'jane': {'austen': {'_end_': '_end_'}}}}\n"
     ]
    }
   ],
   "source": [
    "quadgrams[:5]\n",
    "x=make_trie(quadgrams[:5])\n",
    "print(x['emma'])"
   ]
  },
  {
   "cell_type": "code",
   "execution_count": 24,
   "metadata": {
    "collapsed": true
   },
   "outputs": [],
   "source": [
    "_end = '_end_'\n",
    "\n",
    "def make_trie(quadgrams):\n",
    "    root = dict()\n",
    "    for quad in quadgrams:\n",
    "        current_dict = root\n",
    "        for word in quad:\n",
    "            current_dict = current_dict.setdefault(word, {})\n",
    "        current_dict[_end] = _end\n",
    "    return root\n",
    " \n",
    "# make_trie('foo', 'bar', 'baz', 'barz')"
   ]
  }
 ],
 "metadata": {
  "kernelspec": {
   "display_name": "Python 3",
   "language": "python",
   "name": "python3"
  },
  "language_info": {
   "codemirror_mode": {
    "name": "ipython",
    "version": 3
   },
   "file_extension": ".py",
   "mimetype": "text/x-python",
   "name": "python",
   "nbconvert_exporter": "python",
   "pygments_lexer": "ipython3",
   "version": "3.6.0"
  }
 },
 "nbformat": 4,
 "nbformat_minor": 2
}
