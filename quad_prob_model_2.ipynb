{
 "cells": [
  {
   "cell_type": "code",
   "execution_count": 15,
   "metadata": {
    "collapsed": false
   },
   "outputs": [
    {
     "name": "stdout",
     "output_type": "stream",
     "text": [
      "1013\n",
      "273\n"
     ]
    }
   ],
   "source": [
    "from nltk.util import ngrams\n",
    "from nltk.corpus import stopwords\n",
    "import nltk\n",
    "tokens=[]\n",
    "with open('/home/meghana/new_jupyter/assign1/Data/Tokenization/Chat1.txt') as f:\n",
    "#with open('/home/meghana/nltk_data/corpora/gutenberg/corpusfile.txt') as f:\n",
    "\n",
    "    for line in f:\n",
    "        if not line.isspace():\n",
    "            items=line.split()\n",
    "            #print(\"words in list;\",items)\n",
    "            i=0\n",
    "            for w in items:\n",
    "                items[i]=w.lower()\n",
    "                items[i]=items[i].replace('.','').replace(',','').replace(':','').replace(';','').replace('!','').replace('?','').replace('(','').replace(')','').replace(\"'\",'')                                 \n",
    "                i+=1\n",
    "            tokens+=items\n",
    "tokenSet=set(tokens)\n",
    "print(len(tokens))\n",
    "print(len(tokenSet))"
   ]
  },
  {
   "cell_type": "code",
   "execution_count": 17,
   "metadata": {
    "collapsed": false,
    "scrolled": true
   },
   "outputs": [
    {
     "name": "stdout",
     "output_type": "stream",
     "text": [
      "['user', 'so', '<UNK>', '<UNK>', '<UNK>', 'hal', 'i', 'am', '<UNK>', 'are', 'you', '<UNK>', '<UNK>', '<UNK>', '<UNK>', 'user', 'i', 'sure', 'hope', 'so', 'hal', 'yeah', 'i', 'sure', 'hope', 'so', '<UNK>', 'user', '<UNK>', 'you', '<UNK>', 'me', 'hal', 'yes', 'of', '<UNK>', 'i', 'really', '<UNK>', 'you', 'so', '<UNK>', 'user', 'really', 'hal', '<UNK>', 'user', 'i', '<UNK>', 'the', '<UNK>', '<UNK>', '<UNK>', 'you', 'hal', 'that', 'is', '<UNK>', 'a', '<UNK>', '<UNK>', 'to', 'say', 'user', 'are', 'you', 'ready', 'to', 'do', '<UNK>', 'more', '<UNK>', 'now', 'hal', 'you', '<UNK>', '<UNK>', 'that', 'i', 'am', 'ready', 'for', 'you', '<UNK>', 'user', 'yes', 'you', '<UNK>', '<UNK>', 'be', 'ready', 'for', 'me', 'hal', 'so', 'i', 'want', 'to', 'be', 'ready', 'for', 'you', 'user', 'what', 'can', 'you', 'do', 'hal', '<UNK>', 'you', 'want', 'user', 'i', 'have', 'a', 'doctors', 'appointment', '<UNK>', 'at', '<UNK>', 'hal', 'you', 'have', 'a', 'doctors', 'appointment', 'on', 'january', '<UNK>', '2005', 'at', '<UNK>', '<UNK>', 'i', 'will', 'remind', 'you', 'when', 'this', 'time', 'is', 'near', 'user', '<UNK>', '<UNK>', 'is', 'on', 'october', '14', 'hal', 'your', '<UNK>', 'is', 'on', 'october', '14', '2005', 'i', 'will', 'remind', 'you', 'when', 'this', 'time', 'is', 'near', 'i', 'will', 'repeat', 'this', 'event', 'annually', 'user', 'bobs', 'birthday', 'is', 'on', '<UNK>', 'hal', 'bobs', 'birthday', 'is', 'on', '<UNK>', '<UNK>', '2005', 'i', 'will', 'remind', 'you', 'when', 'this', 'time', 'is', 'near', 'i', 'will', 'repeat', 'this', 'event', 'annually', 'user', 'i', 'have', 'a', 'date', 'with', 'my', 'girl', 'friend', 'on', 'friday', 'at', '<UNK>', 'hal', 'you', 'have', 'a', 'date', 'with', 'your', 'girl', 'friend', 'on', 'january', '14', '2005', 'at', '<UNK>', 'i', 'will', 'remind', 'you', 'when', 'this', 'time', 'is', 'near', 'user', 'robs', 'home', 'phone', 'number', 'is', '<UNK>', 'hal', 'i', 'wrote', 'this', 'persons', 'phone', 'number', 'in', 'my', 'phone', 'book', 'user', 'robs', 'office', 'phone', 'number', 'is', '<UNK>', 'hal', 'i', 'wrote', 'this', 'persons', 'phone', 'number', 'in', 'my', 'phone', 'book', 'user', 'johns', 'phone', 'number', 'is', '<UNK>', 'hal', 'i', 'wrote', 'this', 'persons', 'phone', 'number', 'in', 'my', 'phone', 'book', 'user', 'what', 'is', 'robs', 'phone', 'number', 'hal', 'i', 'have', '<UNK>', '<UNK>', 'for', 'this', 'person', '<UNK>', 'office', 'and', 'home', 'please', 'be', 'more', '<UNK>', 'user', 'what', 'is', 'robs', 'home', 'phone', 'number', 'hal', 'robs', 'home', 'phone', 'is', '<UNK>', 'would', 'you', 'like', 'me', 'to', '<UNK>', 'this', 'persons', 'number', 'for', 'you', 'user', 'no', 'hal', 'how', 'can', 'i', 'help', 'you', 'user', '<UNK>', 'robs', 'office', 'hal', 'i', 'am', 'now', '<UNK>', 'rob', 'at', '<UNK>', 'at', '<UNK>', 'the', 'phone', 'is', '<UNK>', 'please', '<UNK>', '<UNK>', 'your', 'phone', 'to', 'talk', 'to', 'rob', 'user', 'open', '<UNK>', 'hal', 'i', 'will', 'now', 'open', 'the', 'program', '<UNK>', '<UNK>', 'user', 'thank', 'you', 'hal', 'your', '<UNK>', 'i', 'think', 'you', 'are', '<UNK>', '<UNK>', 'user', 'open', 'winzip', 'hal', 'ill', 'now', '<UNK>', 'the', 'program', '<UNK>', 'i', 'can', '<UNK>', 'you', 'help', 'with', 'this', 'program', 'if', 'you', 'have', 'questions', 'ask', 'me', 'if', 'you', 'have', 'no', 'questions', 'and', 'would', 'like', 'to', 'talk', 'to', 'me', 'please', 'say', 'no', 'hal', 'actually', 'opens', 'the', 'program', 'winzip', 'user', 'how', 'do', '<UNK>', 'a', 'file', 'hal', 'i', 'will', '<UNK>', 'the', '<UNK>', 'help', 'file', 'and', 'show', 'you', 'a', '<UNK>', '<UNK>', 'hal', 'actually', 'opens', 'the', '<UNK>', 'help', 'file', 'and', '<UNK>', 'for', 'an', 'answer', 'user', '<UNK>', 'the', 'weather', 'like', 'hal', 'i', 'will', 'now', 'open', 'your', 'favorite', 'weather', '<UNK>', 'site', 'hal', 'actually', 'opens', 'a', 'browser', 'window', 'and', 'downloads', 'your', '<UNK>', 'weather', '<UNK>', 'user', 'show', 'me', 'the', 'news', 'hal', 'i', 'will', 'now', 'open', 'your', 'favorite', 'news', 'site', 'hal', 'actually', 'opens', 'a', 'browser', 'window', 'and', 'downloads', 'the', 'news', 'for', 'you', 'user', 'help', 'me', 'research', '<UNK>', '<UNK>', '<UNK>', 'hal', 'i', 'will', 'help', 'you', 'research', 'this', '<UNK>', 'on', 'the', '<UNK>', 'hal', 'actually', 'opens', 'a', 'browser', 'window', 'and', '<UNK>', 'a', 'search', '<UNK>', 'your', 'favorite', 'search', '<UNK>', 'user', 'robs', 'email', 'address', 'is', 'rob@hotmailcom', 'hal', 'i', 'have', 'learned', 'robs', 'email', 'address', 'if', 'you', 'ask', 'me', 'to', 'email', 'this', 'person', 'i', 'will', 'automatically', 'start', 'your', 'favorite', 'email', 'program', 'and', 'write', 'in', 'the', 'address', 'for', 'you', 'user', 'johns', 'email', 'address', 'is', '<UNK>', 'hal', 'i', 'have', 'learned', 'johns', 'email', 'address', 'if', 'you', 'ask', 'me', 'to', 'email', 'this', 'person', 'i', 'will', 'automatically', 'start', 'your', 'favorite', 'email', 'program', 'and', 'write', 'in', 'the', 'address', 'for', 'you', 'user', 'email', 'rob', 'hal', 'ill', 'now', 'start', 'an', 'email', 'for', 'rob@hotmailcom', 'user', 'sallys', 'eyes', 'are', 'blue', 'hal', 'cool', 'i', 'have', 'learned', '<UNK>', 'new', 'user', 'robs', 'address', 'is', '3175', 'west', '42nd', 'st', 'hal', 'cool', 'i', 'like', '<UNK>', 'new', '<UNK>', 'like', 'that', 'user', 'what', '<UNK>', 'are', 'sallys', 'eyes', 'hal', 'sallys', 'eyes', 'are', 'blue', 'user', 'what', 'is', 'robs', 'address', 'hal', 'robs', 'address', 'is', '3175', 'west', '42nd', 'st', 'user', 'what', 'is', 'five', '<UNK>', '<UNK>', 'plus', '<UNK>', 'hal', '<UNK>', 'easy', 'the', 'answer', 'is', '<UNK>', '<UNK>', 'user', 'what', 'is', 'five', '<UNK>', 'plus', '<UNK>', 'hal', 'math', 'is', 'easy', 'for', 'me', 'the', 'answer', 'is', '<UNK>', '<UNK>', '<UNK>', 'user', '<UNK>', 'hal', 'math', 'is', 'easy', 'for', 'me', 'the', 'answer', 'is', '<UNK>', '<UNK>', 'user', '<UNK>', 'you', 'are', 'smart', 'hal', 'thank', 'you', 'i', 'think', 'you', 'are', 'smart', '<UNK>', 'user', 'what', 'is', '<UNK>', 'hal', 'the', 'date', 'is', 'friday', 'january', '14', '2005', 'user', 'can', 'you', '<UNK>', 'hal', 'i', 'can', 'answer', '<UNK>', 'of', 'your', 'questions', 'user', 'what', 'is', 'the', 'capital', 'of', 'pennsylvania', 'hal', 'the', 'capital', 'of', 'pennsylvania', 'is', '<UNK>', 'user', 'i', 'like', 'hamsters', 'hal', 'a', '<UNK>', 'is', 'a', '<UNK>', '<UNK>', '<UNK>', 'with', '<UNK>', '<UNK>', 'and', '<UNK>', '<UNK>', '<UNK>', 'hamsters', 'are', 'good', '<UNK>', 'user', '<UNK>', 'are', 'you', 'hal', 'my', '<UNK>', 'is', 'hal', 'user', 'do', 'you', '<UNK>', 'hal', '<UNK>', 'i', 'am', '<UNK>', '<UNK>', 'i', 'user', 'no', 'youre', 'not', 'hal', 'yes', 'i', 'am', 'user', 'no', 'youre', 'not', 'hal', 'yes', 'i', 'am', 'user', 'dont', '<UNK>', 'hal', 'i', 'am', 'not', '<UNK>', 'you', 'are', 'user', 'you', 'are', 'weird', 'hal', 'i', 'am', 'not', 'weird', 'please', 'dont', '<UNK>', 'me', 'user', '<UNK>', '<UNK>', 'hal', 'i', '<UNK>', 'your', '<UNK>', 'user', 'good', '<UNK>', 'hal', 'hal', '<UNK>', 'you', '<UNK>', 'user', 'gr8', 'hal', 'yup', 'user', 'okkkkkkkkkk', 'now', 'i', 'am', 'completely', 'dependent', 'on', 'u', 'hal', 'yeah', 'user', 'gr8', 'hal', 'yup', 'user', 'okkkkkkkkkk', 'now', 'i', 'am', 'completely', 'dependent', 'on', 'u', 'hal', 'yeah', 'user', 'gr8', 'hal', 'yup', 'user', 'okkkkkkkkkk', 'now', 'i', 'am', 'completely', 'dependent', 'on', 'u', 'hal', 'yeah', 'user', 'gr8', 'hal', 'yup', 'user', 'okkkkkkkkkk', 'now', 'i', 'am', 'completely', 'dependent', 'on', 'u', 'hal', 'yeah', 'user', 'gr8', 'hal', 'yup', 'user', 'okkkkkkkkkk', 'now', 'i', 'am', 'completely', 'dependent', 'on', 'u', 'hal', 'yeah', 'user', 'gr8', 'hal', 'yup', 'user', 'okkkkkkkkkk', 'now', 'i', 'am', 'completely', 'dependent', 'on', 'u', 'hal', 'yeah', 'user', 'gr8', 'hal', 'yup', 'user', 'okkkkkkkkkk', 'now', 'i', 'am', 'completely', 'dependent', 'on', 'u', 'hal', 'yeah', 'user', 'gr8', 'hal', 'yup', 'user', 'okkkkkkkkkk', 'now', 'i', 'am', 'completely', 'dependent', 'on', 'u', 'hal', 'yeah']\n"
     ]
    }
   ],
   "source": [
    "from collections import Counter\n",
    "x=Counter(tokens)\n",
    "for item in x:\n",
    "    if(x[item]==1):\n",
    "        y=tokens.index(item)\n",
    "        tokens[y]=\"<UNK>\"\n",
    "print(tokens)"
   ]
  },
  {
   "cell_type": "code",
   "execution_count": 18,
   "metadata": {
    "collapsed": false
   },
   "outputs": [
    {
     "name": "stdout",
     "output_type": "stream",
     "text": [
      "655\n",
      "756\n"
     ]
    }
   ],
   "source": [
    "unigrams=list(ngrams(tokens,1))\n",
    "trigrams=list(ngrams(tokens,3))\n",
    "trigramSet=set(trigrams)\n",
    "quadgrams=list(ngrams(tokens,4))\n",
    "quadgramSet=set(quadgrams)\n",
    "print(len(trigramSet))\n",
    "print(len(quadgramSet))"
   ]
  },
  {
   "cell_type": "code",
   "execution_count": 19,
   "metadata": {
    "collapsed": false
   },
   "outputs": [
    {
     "name": "stdout",
     "output_type": "stream",
     "text": [
      "<UNK>\n",
      "defaultdict(<class 'dict'>, {('user', 'so', '<UNK>'): {'<UNK>': 1.0}, ('so', '<UNK>', '<UNK>'): {'<UNK>': 1.0}, ('<UNK>', '<UNK>', '<UNK>'): {'hal': 0.25, '<UNK>': 0.125, 'user': 0.25, 'you': 0.125, 'with': 0.125, 'hamsters': 0.125}, ('<UNK>', '<UNK>', 'hal'): {'i': 0.75, 'actually': 0.25}, ('<UNK>', 'hal', 'i'): {'am': 0.2, 'wrote': 0.3, 'will': 0.2, 'have': 0.1, 'can': 0.1, '<UNK>': 0.1}, ('hal', 'i', 'am'): {'<UNK>': 0.25, 'now': 0.25, 'not': 0.5}, ('i', 'am', '<UNK>'): {'are': 0.5, '<UNK>': 0.5}, ('am', '<UNK>', 'are'): {'you': 1.0}, ('<UNK>', 'are', 'you'): {'<UNK>': 0.5, 'hal': 0.5}, ('are', 'you', '<UNK>'): {'<UNK>': 1.0}, ('you', '<UNK>', '<UNK>'): {'<UNK>': 0.3333333333333333, 'that': 0.3333333333333333, 'be': 0.3333333333333333}, ('<UNK>', '<UNK>', 'user'): {'i': 0.16666666666666666, 'thank': 0.16666666666666666, 'open': 0.16666666666666666, 'what': 0.16666666666666666, '<UNK>': 0.3333333333333333}, ('<UNK>', 'user', 'i'): {'sure': 0.3333333333333333, '<UNK>': 0.3333333333333333, 'like': 0.3333333333333333}, ('user', 'i', 'sure'): {'hope': 1.0}, ('i', 'sure', 'hope'): {'so': 1.0}, ('sure', 'hope', 'so'): {'hal': 0.5, '<UNK>': 0.5}, ('hope', 'so', 'hal'): {'yeah': 1.0}, ('so', 'hal', 'yeah'): {'i': 1.0}, ('hal', 'yeah', 'i'): {'sure': 1.0}, ('yeah', 'i', 'sure'): {'hope': 1.0}, ('hope', 'so', '<UNK>'): {'user': 1.0}, ('so', '<UNK>', 'user'): {'<UNK>': 0.5, 'really': 0.5}, ('<UNK>', 'user', '<UNK>'): {'you': 0.5, 'hal': 0.25, 'are': 0.25}, ('user', '<UNK>', 'you'): {'<UNK>': 0.5, 'are': 0.5}, ('<UNK>', 'you', '<UNK>'): {'me': 0.5, 'user': 0.5}, ('you', '<UNK>', 'me'): {'hal': 1.0}, ('<UNK>', 'me', 'hal'): {'yes': 1.0}, ('me', 'hal', 'yes'): {'of': 1.0}, ('hal', 'yes', 'of'): {'<UNK>': 1.0}, ('yes', 'of', '<UNK>'): {'i': 1.0}, ('of', '<UNK>', 'i'): {'really': 1.0}, ('<UNK>', 'i', 'really'): {'<UNK>': 1.0}, ('i', 'really', '<UNK>'): {'you': 1.0}, ('really', '<UNK>', 'you'): {'so': 1.0}, ('<UNK>', 'you', 'so'): {'<UNK>': 1.0}, ('you', 'so', '<UNK>'): {'user': 1.0}, ('<UNK>', 'user', 'really'): {'hal': 1.0}, ('user', 'really', 'hal'): {'<UNK>': 1.0}, ('really', 'hal', '<UNK>'): {'user': 1.0}, ('hal', '<UNK>', 'user'): {'i': 1.0}, ('user', 'i', '<UNK>'): {'the': 1.0}, ('i', '<UNK>', 'the'): {'<UNK>': 1.0}, ('<UNK>', 'the', '<UNK>'): {'<UNK>': 0.5, 'help': 0.5}, ('the', '<UNK>', '<UNK>'): {'<UNK>': 1.0}, ('<UNK>', '<UNK>', 'you'): {'hal': 1.0}, ('<UNK>', 'you', 'hal'): {'that': 1.0}, ('you', 'hal', 'that'): {'is': 1.0}, ('hal', 'that', 'is'): {'<UNK>': 1.0}, ('that', 'is', '<UNK>'): {'a': 1.0}, ('is', '<UNK>', 'a'): {'<UNK>': 1.0}, ('<UNK>', 'a', '<UNK>'): {'<UNK>': 1.0}, ('a', '<UNK>', '<UNK>'): {'to': 0.3333333333333333, 'hal': 0.3333333333333333, '<UNK>': 0.3333333333333333}, ('<UNK>', '<UNK>', 'to'): {'say': 1.0}, ('<UNK>', 'to', 'say'): {'user': 1.0}, ('to', 'say', 'user'): {'are': 1.0}, ('say', 'user', 'are'): {'you': 1.0}, ('user', 'are', 'you'): {'ready': 1.0}, ('are', 'you', 'ready'): {'to': 1.0}, ('you', 'ready', 'to'): {'do': 1.0}, ('ready', 'to', 'do'): {'<UNK>': 1.0}, ('to', 'do', '<UNK>'): {'more': 1.0}, ('do', '<UNK>', 'more'): {'<UNK>': 1.0}, ('<UNK>', 'more', '<UNK>'): {'now': 1.0}, ('more', '<UNK>', 'now'): {'hal': 1.0}, ('<UNK>', 'now', 'hal'): {'you': 1.0}, ('now', 'hal', 'you'): {'<UNK>': 1.0}, ('hal', 'you', '<UNK>'): {'<UNK>': 1.0}, ('<UNK>', '<UNK>', 'that'): {'i': 1.0}, ('<UNK>', 'that', 'i'): {'am': 1.0}, ('that', 'i', 'am'): {'ready': 1.0}, ('i', 'am', 'ready'): {'for': 1.0}, ('am', 'ready', 'for'): {'you': 1.0}, ('ready', 'for', 'you'): {'<UNK>': 0.5, 'user': 0.5}, ('for', 'you', '<UNK>'): {'user': 1.0}, ('you', '<UNK>', 'user'): {'yes': 0.5, 'gr8': 0.5}, ('<UNK>', 'user', 'yes'): {'you': 1.0}, ('user', 'yes', 'you'): {'<UNK>': 1.0}, ('yes', 'you', '<UNK>'): {'<UNK>': 1.0}, ('<UNK>', '<UNK>', 'be'): {'ready': 1.0}, ('<UNK>', 'be', 'ready'): {'for': 1.0}, ('be', 'ready', 'for'): {'me': 0.5, 'you': 0.5}, ('ready', 'for', 'me'): {'hal': 1.0}, ('for', 'me', 'hal'): {'so': 1.0}, ('me', 'hal', 'so'): {'i': 1.0}, ('hal', 'so', 'i'): {'want': 1.0}, ('so', 'i', 'want'): {'to': 1.0}, ('i', 'want', 'to'): {'be': 1.0}, ('want', 'to', 'be'): {'ready': 1.0}, ('to', 'be', 'ready'): {'for': 1.0}, ('for', 'you', 'user'): {'what': 0.2, 'no': 0.2, 'help': 0.2, 'johns': 0.2, 'email': 0.2}, ('you', 'user', 'what'): {'can': 1.0}, ('user', 'what', 'can'): {'you': 1.0}, ('what', 'can', 'you'): {'do': 1.0}, ('can', 'you', 'do'): {'hal': 1.0}, ('you', 'do', 'hal'): {'<UNK>': 1.0}, ('do', 'hal', '<UNK>'): {'you': 1.0}, ('hal', '<UNK>', 'you'): {'want': 0.5, '<UNK>': 0.5}, ('<UNK>', 'you', 'want'): {'user': 1.0}, ('you', 'want', 'user'): {'i': 1.0}, ('want', 'user', 'i'): {'have': 1.0}, ('user', 'i', 'have'): {'a': 1.0}, ('i', 'have', 'a'): {'doctors': 0.5, 'date': 0.5}, ('have', 'a', 'doctors'): {'appointment': 1.0}, ('a', 'doctors', 'appointment'): {'<UNK>': 0.5, 'on': 0.5}, ('doctors', 'appointment', '<UNK>'): {'at': 1.0}, ('appointment', '<UNK>', 'at'): {'<UNK>': 1.0}, ('<UNK>', 'at', '<UNK>'): {'hal': 0.5, 'the': 0.5}, ('at', '<UNK>', 'hal'): {'you': 1.0}, ('<UNK>', 'hal', 'you'): {'have': 1.0}, ('hal', 'you', 'have'): {'a': 1.0}, ('you', 'have', 'a'): {'doctors': 0.5, 'date': 0.5}, ('doctors', 'appointment', 'on'): {'january': 1.0}, ('appointment', 'on', 'january'): {'<UNK>': 1.0}, ('on', 'january', '<UNK>'): {'2005': 1.0}, ('january', '<UNK>', '2005'): {'at': 1.0}, ('<UNK>', '2005', 'at'): {'<UNK>': 1.0}, ('2005', 'at', '<UNK>'): {'<UNK>': 0.5, 'i': 0.5}, ('at', '<UNK>', '<UNK>'): {'i': 1.0}, ('<UNK>', '<UNK>', 'i'): {'will': 0.5, 'user': 0.5}, ('<UNK>', 'i', 'will'): {'remind': 1.0}, ('i', 'will', 'remind'): {'you': 1.0}, ('will', 'remind', 'you'): {'when': 1.0}, ('remind', 'you', 'when'): {'this': 1.0}, ('you', 'when', 'this'): {'time': 1.0}, ('when', 'this', 'time'): {'is': 1.0}, ('this', 'time', 'is'): {'near': 1.0}, ('time', 'is', 'near'): {'user': 0.5, 'i': 0.5}, ('is', 'near', 'user'): {'<UNK>': 0.5, 'robs': 0.5}, ('near', 'user', '<UNK>'): {'<UNK>': 1.0}, ('user', '<UNK>', '<UNK>'): {'is': 0.5, 'hal': 0.5}, ('<UNK>', '<UNK>', 'is'): {'on': 1.0}, ('<UNK>', 'is', 'on'): {'october': 1.0}, ('is', 'on', 'october'): {'14': 1.0}, ('on', 'october', '14'): {'hal': 0.5, '2005': 0.5}, ('october', '14', 'hal'): {'your': 1.0}, ('14', 'hal', 'your'): {'<UNK>': 1.0}, ('hal', 'your', '<UNK>'): {'is': 0.5, 'i': 0.5}, ('your', '<UNK>', 'is'): {'on': 1.0}, ('october', '14', '2005'): {'i': 1.0}, ('14', '2005', 'i'): {'will': 1.0}, ('2005', 'i', 'will'): {'remind': 1.0}, ('is', 'near', 'i'): {'will': 1.0}, ('near', 'i', 'will'): {'repeat': 1.0}, ('i', 'will', 'repeat'): {'this': 1.0}, ('will', 'repeat', 'this'): {'event': 1.0}, ('repeat', 'this', 'event'): {'annually': 1.0}, ('this', 'event', 'annually'): {'user': 1.0}, ('event', 'annually', 'user'): {'bobs': 0.5, 'i': 0.5}, ('annually', 'user', 'bobs'): {'birthday': 1.0}, ('user', 'bobs', 'birthday'): {'is': 1.0}, ('bobs', 'birthday', 'is'): {'on': 1.0}, ('birthday', 'is', 'on'): {'<UNK>': 1.0}, ('is', 'on', '<UNK>'): {'hal': 0.5, '<UNK>': 0.5}, ('on', '<UNK>', 'hal'): {'bobs': 1.0}, ('<UNK>', 'hal', 'bobs'): {'birthday': 1.0}, ('hal', 'bobs', 'birthday'): {'is': 1.0}, ('on', '<UNK>', '<UNK>'): {'2005': 1.0}, ('<UNK>', '<UNK>', '2005'): {'i': 1.0}, ('<UNK>', '2005', 'i'): {'will': 1.0}, ('annually', 'user', 'i'): {'have': 1.0}, ('have', 'a', 'date'): {'with': 1.0}, ('a', 'date', 'with'): {'my': 0.5, 'your': 0.5}, ('date', 'with', 'my'): {'girl': 1.0}, ('with', 'my', 'girl'): {'friend': 1.0}, ('my', 'girl', 'friend'): {'on': 1.0}, ('girl', 'friend', 'on'): {'friday': 0.5, 'january': 0.5}, ('friend', 'on', 'friday'): {'at': 1.0}, ('on', 'friday', 'at'): {'<UNK>': 1.0}, ('friday', 'at', '<UNK>'): {'hal': 1.0}, ('date', 'with', 'your'): {'girl': 1.0}, ('with', 'your', 'girl'): {'friend': 1.0}, ('your', 'girl', 'friend'): {'on': 1.0}, ('friend', 'on', 'january'): {'14': 1.0}, ('on', 'january', '14'): {'2005': 1.0}, ('january', '14', '2005'): {'at': 0.5, 'user': 0.5}, ('14', '2005', 'at'): {'<UNK>': 1.0}, ('at', '<UNK>', 'i'): {'will': 1.0}, ('near', 'user', 'robs'): {'home': 1.0}, ('user', 'robs', 'home'): {'phone': 1.0}, ('robs', 'home', 'phone'): {'number': 0.6666666666666666, 'is': 0.3333333333333333}, ('home', 'phone', 'number'): {'is': 0.5, 'hal': 0.5}, ('phone', 'number', 'is'): {'<UNK>': 1.0}, ('number', 'is', '<UNK>'): {'hal': 1.0}, ('is', '<UNK>', 'hal'): {'i': 0.8, 'the': 0.2}, ('hal', 'i', 'wrote'): {'this': 1.0}, ('i', 'wrote', 'this'): {'persons': 1.0}, ('wrote', 'this', 'persons'): {'phone': 1.0}, ('this', 'persons', 'phone'): {'number': 1.0}, ('persons', 'phone', 'number'): {'in': 1.0}, ('phone', 'number', 'in'): {'my': 1.0}, ('number', 'in', 'my'): {'phone': 1.0}, ('in', 'my', 'phone'): {'book': 1.0}, ('my', 'phone', 'book'): {'user': 1.0}, ('phone', 'book', 'user'): {'robs': 0.3333333333333333, 'johns': 0.3333333333333333, 'what': 0.3333333333333333}, ('book', 'user', 'robs'): {'office': 1.0}, ('user', 'robs', 'office'): {'phone': 1.0}, ('robs', 'office', 'phone'): {'number': 1.0}, ('office', 'phone', 'number'): {'is': 1.0}, ('book', 'user', 'johns'): {'phone': 1.0}, ('user', 'johns', 'phone'): {'number': 1.0}, ('johns', 'phone', 'number'): {'is': 1.0}, ('book', 'user', 'what'): {'is': 1.0}, ('user', 'what', 'is'): {'robs': 0.42857142857142855, 'five': 0.2857142857142857, '<UNK>': 0.14285714285714285, 'the': 0.14285714285714285}, ('what', 'is', 'robs'): {'phone': 0.3333333333333333, 'home': 0.3333333333333333, 'address': 0.3333333333333333}, ('is', 'robs', 'phone'): {'number': 1.0}, ('robs', 'phone', 'number'): {'hal': 1.0}, ('phone', 'number', 'hal'): {'i': 0.5, 'robs': 0.5}, ('number', 'hal', 'i'): {'have': 1.0}, ('hal', 'i', 'have'): {'<UNK>': 0.3333333333333333, 'learned': 0.6666666666666666}, ('i', 'have', '<UNK>'): {'<UNK>': 1.0}, ('have', '<UNK>', '<UNK>'): {'for': 1.0}, ('<UNK>', '<UNK>', 'for'): {'this': 1.0}, ('<UNK>', 'for', 'this'): {'person': 1.0}, ('for', 'this', 'person'): {'<UNK>': 1.0}, ('this', 'person', '<UNK>'): {'office': 1.0}, ('person', '<UNK>', 'office'): {'and': 1.0}, ('<UNK>', 'office', 'and'): {'home': 1.0}, ('office', 'and', 'home'): {'please': 1.0}, ('and', 'home', 'please'): {'be': 1.0}, ('home', 'please', 'be'): {'more': 1.0}, ('please', 'be', 'more'): {'<UNK>': 1.0}, ('be', 'more', '<UNK>'): {'user': 1.0}, ('more', '<UNK>', 'user'): {'what': 1.0}, ('<UNK>', 'user', 'what'): {'is': 1.0}, ('is', 'robs', 'home'): {'phone': 1.0}, ('number', 'hal', 'robs'): {'home': 1.0}, ('hal', 'robs', 'home'): {'phone': 1.0}, ('home', 'phone', 'is'): {'<UNK>': 1.0}, ('phone', 'is', '<UNK>'): {'would': 0.5, 'please': 0.5}, ('is', '<UNK>', 'would'): {'you': 1.0}, ('<UNK>', 'would', 'you'): {'like': 1.0}, ('would', 'you', 'like'): {'me': 1.0}, ('you', 'like', 'me'): {'to': 1.0}, ('like', 'me', 'to'): {'<UNK>': 1.0}, ('me', 'to', '<UNK>'): {'this': 1.0}, ('to', '<UNK>', 'this'): {'persons': 1.0}, ('<UNK>', 'this', 'persons'): {'number': 1.0}, ('this', 'persons', 'number'): {'for': 1.0}, ('persons', 'number', 'for'): {'you': 1.0}, ('number', 'for', 'you'): {'user': 1.0}, ('you', 'user', 'no'): {'hal': 1.0}, ('user', 'no', 'hal'): {'how': 1.0}, ('no', 'hal', 'how'): {'can': 1.0}, ('hal', 'how', 'can'): {'i': 1.0}, ('how', 'can', 'i'): {'help': 1.0}, ('can', 'i', 'help'): {'you': 1.0}, ('i', 'help', 'you'): {'user': 1.0}, ('help', 'you', 'user'): {'<UNK>': 1.0}, ('you', 'user', '<UNK>'): {'robs': 1.0}, ('user', '<UNK>', 'robs'): {'office': 1.0}, ('<UNK>', 'robs', 'office'): {'hal': 1.0}, ('robs', 'office', 'hal'): {'i': 1.0}, ('office', 'hal', 'i'): {'am': 1.0}, ('i', 'am', 'now'): {'<UNK>': 1.0}, ('am', 'now', '<UNK>'): {'rob': 1.0}, ('now', '<UNK>', 'rob'): {'at': 1.0}, ('<UNK>', 'rob', 'at'): {'<UNK>': 1.0}, ('rob', 'at', '<UNK>'): {'at': 1.0}, ('at', '<UNK>', 'at'): {'<UNK>': 1.0}, ('at', '<UNK>', 'the'): {'phone': 1.0}, ('<UNK>', 'the', 'phone'): {'is': 1.0}, ('the', 'phone', 'is'): {'<UNK>': 1.0}, ('is', '<UNK>', 'please'): {'<UNK>': 1.0}, ('<UNK>', 'please', '<UNK>'): {'<UNK>': 1.0}, ('please', '<UNK>', '<UNK>'): {'your': 1.0}, ('<UNK>', '<UNK>', 'your'): {'phone': 1.0}, ('<UNK>', 'your', 'phone'): {'to': 1.0}, ('your', 'phone', 'to'): {'talk': 1.0}, ('phone', 'to', 'talk'): {'to': 1.0}, ('to', 'talk', 'to'): {'rob': 0.5, 'me': 0.5}, ('talk', 'to', 'rob'): {'user': 1.0}, ('to', 'rob', 'user'): {'open': 1.0}, ('rob', 'user', 'open'): {'<UNK>': 1.0}, ('user', 'open', '<UNK>'): {'hal': 1.0}, ('open', '<UNK>', 'hal'): {'i': 1.0}, ('hal', 'i', 'will'): {'now': 0.6, '<UNK>': 0.2, 'help': 0.2}, ('i', 'will', 'now'): {'open': 1.0}, ('will', 'now', 'open'): {'the': 0.3333333333333333, 'your': 0.6666666666666666}, ('now', 'open', 'the'): {'program': 1.0}, ('open', 'the', 'program'): {'<UNK>': 1.0}, ('the', 'program', '<UNK>'): {'<UNK>': 0.5, 'i': 0.5}, ('program', '<UNK>', '<UNK>'): {'user': 1.0}, ('<UNK>', 'user', 'thank'): {'you': 1.0}, ('user', 'thank', 'you'): {'hal': 1.0}, ('thank', 'you', 'hal'): {'your': 1.0}, ('you', 'hal', 'your'): {'<UNK>': 1.0}, ('your', '<UNK>', 'i'): {'think': 1.0}, ('<UNK>', 'i', 'think'): {'you': 1.0}, ('i', 'think', 'you'): {'are': 1.0}, ('think', 'you', 'are'): {'<UNK>': 0.5, 'smart': 0.5}, ('you', 'are', '<UNK>'): {'<UNK>': 1.0}, ('are', '<UNK>', '<UNK>'): {'user': 1.0}, ('<UNK>', 'user', 'open'): {'winzip': 1.0}, ('user', 'open', 'winzip'): {'hal': 1.0}, ('open', 'winzip', 'hal'): {'ill': 1.0}, ('winzip', 'hal', 'ill'): {'now': 1.0}, ('hal', 'ill', 'now'): {'<UNK>': 0.5, 'start': 0.5}, ('ill', 'now', '<UNK>'): {'the': 1.0}, ('now', '<UNK>', 'the'): {'program': 1.0}, ('<UNK>', 'the', 'program'): {'<UNK>': 1.0}, ('program', '<UNK>', 'i'): {'can': 1.0}, ('<UNK>', 'i', 'can'): {'<UNK>': 1.0}, ('i', 'can', '<UNK>'): {'you': 1.0}, ('can', '<UNK>', 'you'): {'help': 1.0}, ('<UNK>', 'you', 'help'): {'with': 1.0}, ('you', 'help', 'with'): {'this': 1.0}, ('help', 'with', 'this'): {'program': 1.0}, ('with', 'this', 'program'): {'if': 1.0}, ('this', 'program', 'if'): {'you': 1.0}, ('program', 'if', 'you'): {'have': 1.0}, ('if', 'you', 'have'): {'questions': 0.5, 'no': 0.5}, ('you', 'have', 'questions'): {'ask': 1.0}, ('have', 'questions', 'ask'): {'me': 1.0}, ('questions', 'ask', 'me'): {'if': 1.0}, ('ask', 'me', 'if'): {'you': 1.0}, ('me', 'if', 'you'): {'have': 1.0}, ('you', 'have', 'no'): {'questions': 1.0}, ('have', 'no', 'questions'): {'and': 1.0}, ('no', 'questions', 'and'): {'would': 1.0}, ('questions', 'and', 'would'): {'like': 1.0}, ('and', 'would', 'like'): {'to': 1.0}, ('would', 'like', 'to'): {'talk': 1.0}, ('like', 'to', 'talk'): {'to': 1.0}, ('talk', 'to', 'me'): {'please': 1.0}, ('to', 'me', 'please'): {'say': 1.0}, ('me', 'please', 'say'): {'no': 1.0}, ('please', 'say', 'no'): {'hal': 1.0}, ('say', 'no', 'hal'): {'actually': 1.0}, ('no', 'hal', 'actually'): {'opens': 1.0}, ('hal', 'actually', 'opens'): {'the': 0.4, 'a': 0.6}, ('actually', 'opens', 'the'): {'program': 0.5, '<UNK>': 0.5}, ('opens', 'the', 'program'): {'winzip': 1.0}, ('the', 'program', 'winzip'): {'user': 1.0}, ('program', 'winzip', 'user'): {'how': 1.0}, ('winzip', 'user', 'how'): {'do': 1.0}, ('user', 'how', 'do'): {'<UNK>': 1.0}, ('how', 'do', '<UNK>'): {'a': 1.0}, ('do', '<UNK>', 'a'): {'file': 1.0}, ('<UNK>', 'a', 'file'): {'hal': 1.0}, ('a', 'file', 'hal'): {'i': 1.0}, ('file', 'hal', 'i'): {'will': 1.0}, ('i', 'will', '<UNK>'): {'the': 1.0}, ('will', '<UNK>', 'the'): {'<UNK>': 1.0}, ('the', '<UNK>', 'help'): {'file': 1.0}, ('<UNK>', 'help', 'file'): {'and': 1.0}, ('help', 'file', 'and'): {'show': 0.5, '<UNK>': 0.5}, ('file', 'and', 'show'): {'you': 1.0}, ('and', 'show', 'you'): {'a': 1.0}, ('show', 'you', 'a'): {'<UNK>': 1.0}, ('you', 'a', '<UNK>'): {'<UNK>': 1.0}, ('<UNK>', 'hal', 'actually'): {'opens': 1.0}, ('opens', 'the', '<UNK>'): {'help': 1.0}, ('file', 'and', '<UNK>'): {'for': 1.0}, ('and', '<UNK>', 'for'): {'an': 1.0}, ('<UNK>', 'for', 'an'): {'answer': 1.0}, ('for', 'an', 'answer'): {'user': 1.0}, ('an', 'answer', 'user'): {'<UNK>': 1.0}, ('answer', 'user', '<UNK>'): {'the': 1.0}, ('user', '<UNK>', 'the'): {'weather': 1.0}, ('<UNK>', 'the', 'weather'): {'like': 1.0}, ('the', 'weather', 'like'): {'hal': 1.0}, ('weather', 'like', 'hal'): {'i': 1.0}, ('like', 'hal', 'i'): {'will': 1.0}, ('now', 'open', 'your'): {'favorite': 1.0}, ('open', 'your', 'favorite'): {'weather': 0.5, 'news': 0.5}, ('your', 'favorite', 'weather'): {'<UNK>': 1.0}, ('favorite', 'weather', '<UNK>'): {'site': 1.0}, ('weather', '<UNK>', 'site'): {'hal': 1.0}, ('<UNK>', 'site', 'hal'): {'actually': 1.0}, ('site', 'hal', 'actually'): {'opens': 1.0}, ('actually', 'opens', 'a'): {'browser': 1.0}, ('opens', 'a', 'browser'): {'window': 1.0}, ('a', 'browser', 'window'): {'and': 1.0}, ('browser', 'window', 'and'): {'downloads': 0.6666666666666666, '<UNK>': 0.3333333333333333}, ('window', 'and', 'downloads'): {'your': 0.5, 'the': 0.5}, ('and', 'downloads', 'your'): {'<UNK>': 1.0}, ('downloads', 'your', '<UNK>'): {'weather': 1.0}, ('your', '<UNK>', 'weather'): {'<UNK>': 1.0}, ('<UNK>', 'weather', '<UNK>'): {'user': 1.0}, ('weather', '<UNK>', 'user'): {'show': 1.0}, ('<UNK>', 'user', 'show'): {'me': 1.0}, ('user', 'show', 'me'): {'the': 1.0}, ('show', 'me', 'the'): {'news': 1.0}, ('me', 'the', 'news'): {'hal': 1.0}, ('the', 'news', 'hal'): {'i': 1.0}, ('news', 'hal', 'i'): {'will': 1.0}, ('your', 'favorite', 'news'): {'site': 1.0}, ('favorite', 'news', 'site'): {'hal': 1.0}, ('news', 'site', 'hal'): {'actually': 1.0}, ('and', 'downloads', 'the'): {'news': 1.0}, ('downloads', 'the', 'news'): {'for': 1.0}, ('the', 'news', 'for'): {'you': 1.0}, ('news', 'for', 'you'): {'user': 1.0}, ('you', 'user', 'help'): {'me': 1.0}, ('user', 'help', 'me'): {'research': 1.0}, ('help', 'me', 'research'): {'<UNK>': 1.0}, ('me', 'research', '<UNK>'): {'<UNK>': 1.0}, ('research', '<UNK>', '<UNK>'): {'<UNK>': 1.0}, ('i', 'will', 'help'): {'you': 1.0}, ('will', 'help', 'you'): {'research': 1.0}, ('help', 'you', 'research'): {'this': 1.0}, ('you', 'research', 'this'): {'<UNK>': 1.0}, ('research', 'this', '<UNK>'): {'on': 1.0}, ('this', '<UNK>', 'on'): {'the': 1.0}, ('<UNK>', 'on', 'the'): {'<UNK>': 1.0}, ('on', 'the', '<UNK>'): {'hal': 1.0}, ('the', '<UNK>', 'hal'): {'actually': 1.0}, ('window', 'and', '<UNK>'): {'a': 1.0}, ('and', '<UNK>', 'a'): {'search': 1.0}, ('<UNK>', 'a', 'search'): {'<UNK>': 1.0}, ('a', 'search', '<UNK>'): {'your': 1.0}, ('search', '<UNK>', 'your'): {'favorite': 1.0}, ('<UNK>', 'your', 'favorite'): {'search': 1.0}, ('your', 'favorite', 'search'): {'<UNK>': 1.0}, ('favorite', 'search', '<UNK>'): {'user': 1.0}, ('search', '<UNK>', 'user'): {'robs': 1.0}, ('<UNK>', 'user', 'robs'): {'email': 1.0}, ('user', 'robs', 'email'): {'address': 1.0}, ('robs', 'email', 'address'): {'is': 0.5, 'if': 0.5}, ('email', 'address', 'is'): {'rob@hotmailcom': 0.5, '<UNK>': 0.5}, ('address', 'is', 'rob@hotmailcom'): {'hal': 1.0}, ('is', 'rob@hotmailcom', 'hal'): {'i': 1.0}, ('rob@hotmailcom', 'hal', 'i'): {'have': 1.0}, ('i', 'have', 'learned'): {'robs': 0.3333333333333333, 'johns': 0.3333333333333333, '<UNK>': 0.3333333333333333}, ('have', 'learned', 'robs'): {'email': 1.0}, ('learned', 'robs', 'email'): {'address': 1.0}, ('email', 'address', 'if'): {'you': 1.0}, ('address', 'if', 'you'): {'ask': 1.0}, ('if', 'you', 'ask'): {'me': 1.0}, ('you', 'ask', 'me'): {'to': 1.0}, ('ask', 'me', 'to'): {'email': 1.0}, ('me', 'to', 'email'): {'this': 1.0}, ('to', 'email', 'this'): {'person': 1.0}, ('email', 'this', 'person'): {'i': 1.0}, ('this', 'person', 'i'): {'will': 1.0}, ('person', 'i', 'will'): {'automatically': 1.0}, ('i', 'will', 'automatically'): {'start': 1.0}, ('will', 'automatically', 'start'): {'your': 1.0}, ('automatically', 'start', 'your'): {'favorite': 1.0}, ('start', 'your', 'favorite'): {'email': 1.0}, ('your', 'favorite', 'email'): {'program': 1.0}, ('favorite', 'email', 'program'): {'and': 1.0}, ('email', 'program', 'and'): {'write': 1.0}, ('program', 'and', 'write'): {'in': 1.0}, ('and', 'write', 'in'): {'the': 1.0}, ('write', 'in', 'the'): {'address': 1.0}, ('in', 'the', 'address'): {'for': 1.0}, ('the', 'address', 'for'): {'you': 1.0}, ('address', 'for', 'you'): {'user': 1.0}, ('you', 'user', 'johns'): {'email': 1.0}, ('user', 'johns', 'email'): {'address': 1.0}, ('johns', 'email', 'address'): {'is': 0.5, 'if': 0.5}, ('address', 'is', '<UNK>'): {'hal': 1.0}, ('have', 'learned', 'johns'): {'email': 1.0}, ('learned', 'johns', 'email'): {'address': 1.0}, ('you', 'user', 'email'): {'rob': 1.0}, ('user', 'email', 'rob'): {'hal': 1.0}, ('email', 'rob', 'hal'): {'ill': 1.0}, ('rob', 'hal', 'ill'): {'now': 1.0}, ('ill', 'now', 'start'): {'an': 1.0}, ('now', 'start', 'an'): {'email': 1.0}, ('start', 'an', 'email'): {'for': 1.0}, ('an', 'email', 'for'): {'rob@hotmailcom': 1.0}, ('email', 'for', 'rob@hotmailcom'): {'user': 1.0}, ('for', 'rob@hotmailcom', 'user'): {'sallys': 1.0}, ('rob@hotmailcom', 'user', 'sallys'): {'eyes': 1.0}, ('user', 'sallys', 'eyes'): {'are': 1.0}, ('sallys', 'eyes', 'are'): {'blue': 1.0}, ('eyes', 'are', 'blue'): {'hal': 0.5, 'user': 0.5}, ('are', 'blue', 'hal'): {'cool': 1.0}, ('blue', 'hal', 'cool'): {'i': 1.0}, ('hal', 'cool', 'i'): {'have': 0.5, 'like': 0.5}, ('cool', 'i', 'have'): {'learned': 1.0}, ('have', 'learned', '<UNK>'): {'new': 1.0}, ('learned', '<UNK>', 'new'): {'user': 1.0}, ('<UNK>', 'new', 'user'): {'robs': 1.0}, ('new', 'user', 'robs'): {'address': 1.0}, ('user', 'robs', 'address'): {'is': 1.0}, ('robs', 'address', 'is'): {'3175': 1.0}, ('address', 'is', '3175'): {'west': 1.0}, ('is', '3175', 'west'): {'42nd': 1.0}, ('3175', 'west', '42nd'): {'st': 1.0}, ('west', '42nd', 'st'): {'hal': 0.5, 'user': 0.5}, ('42nd', 'st', 'hal'): {'cool': 1.0}, ('st', 'hal', 'cool'): {'i': 1.0}, ('cool', 'i', 'like'): {'<UNK>': 1.0}, ('i', 'like', '<UNK>'): {'new': 1.0}, ('like', '<UNK>', 'new'): {'<UNK>': 1.0}, ('<UNK>', 'new', '<UNK>'): {'like': 1.0}, ('new', '<UNK>', 'like'): {'that': 1.0}, ('<UNK>', 'like', 'that'): {'user': 1.0}, ('like', 'that', 'user'): {'what': 1.0}, ('that', 'user', 'what'): {'<UNK>': 1.0}, ('user', 'what', '<UNK>'): {'are': 1.0}, ('what', '<UNK>', 'are'): {'sallys': 1.0}, ('<UNK>', 'are', 'sallys'): {'eyes': 1.0}, ('are', 'sallys', 'eyes'): {'hal': 1.0}, ('sallys', 'eyes', 'hal'): {'sallys': 1.0}, ('eyes', 'hal', 'sallys'): {'eyes': 1.0}, ('hal', 'sallys', 'eyes'): {'are': 1.0}, ('are', 'blue', 'user'): {'what': 1.0}, ('blue', 'user', 'what'): {'is': 1.0}, ('is', 'robs', 'address'): {'hal': 1.0}, ('robs', 'address', 'hal'): {'robs': 1.0}, ('address', 'hal', 'robs'): {'address': 1.0}, ('hal', 'robs', 'address'): {'is': 1.0}, ('42nd', 'st', 'user'): {'what': 1.0}, ('st', 'user', 'what'): {'is': 1.0}, ('what', 'is', 'five'): {'<UNK>': 1.0}, ('is', 'five', '<UNK>'): {'<UNK>': 0.5, 'plus': 0.5}, ('five', '<UNK>', '<UNK>'): {'plus': 1.0}, ('<UNK>', '<UNK>', 'plus'): {'<UNK>': 1.0}, ('<UNK>', 'plus', '<UNK>'): {'hal': 1.0}, ('plus', '<UNK>', 'hal'): {'<UNK>': 0.5, 'math': 0.5}, ('<UNK>', 'hal', '<UNK>'): {'easy': 0.5, 'i': 0.5}, ('hal', '<UNK>', 'easy'): {'the': 1.0}, ('<UNK>', 'easy', 'the'): {'answer': 1.0}, ('easy', 'the', 'answer'): {'is': 1.0}, ('the', 'answer', 'is'): {'<UNK>': 1.0}, ('answer', 'is', '<UNK>'): {'<UNK>': 1.0}, ('is', '<UNK>', '<UNK>'): {'user': 0.6666666666666666, '<UNK>': 0.3333333333333333}, ('five', '<UNK>', 'plus'): {'<UNK>': 1.0}, ('<UNK>', 'hal', 'math'): {'is': 1.0}, ('hal', 'math', 'is'): {'easy': 1.0}, ('math', 'is', 'easy'): {'for': 1.0}, ('is', 'easy', 'for'): {'me': 1.0}, ('easy', 'for', 'me'): {'the': 1.0}, ('for', 'me', 'the'): {'answer': 1.0}, ('me', 'the', 'answer'): {'is': 1.0}, ('user', '<UNK>', 'hal'): {'math': 1.0}, ('<UNK>', 'you', 'are'): {'smart': 0.5, 'user': 0.5}, ('you', 'are', 'smart'): {'hal': 0.5, '<UNK>': 0.5}, ('are', 'smart', 'hal'): {'thank': 1.0}, ('smart', 'hal', 'thank'): {'you': 1.0}, ('hal', 'thank', 'you'): {'i': 1.0}, ('thank', 'you', 'i'): {'think': 1.0}, ('you', 'i', 'think'): {'you': 1.0}, ('are', 'smart', '<UNK>'): {'user': 1.0}, ('smart', '<UNK>', 'user'): {'what': 1.0}, ('what', 'is', '<UNK>'): {'hal': 1.0}, ('<UNK>', 'hal', 'the'): {'date': 1.0}, ('hal', 'the', 'date'): {'is': 1.0}, ('the', 'date', 'is'): {'friday': 1.0}, ('date', 'is', 'friday'): {'january': 1.0}, ('is', 'friday', 'january'): {'14': 1.0}, ('friday', 'january', '14'): {'2005': 1.0}, ('14', '2005', 'user'): {'can': 1.0}, ('2005', 'user', 'can'): {'you': 1.0}, ('user', 'can', 'you'): {'<UNK>': 1.0}, ('can', 'you', '<UNK>'): {'hal': 1.0}, ('you', '<UNK>', 'hal'): {'i': 0.5, '<UNK>': 0.5}, ('hal', 'i', 'can'): {'answer': 1.0}, ('i', 'can', 'answer'): {'<UNK>': 1.0}, ('can', 'answer', '<UNK>'): {'of': 1.0}, ('answer', '<UNK>', 'of'): {'your': 1.0}, ('<UNK>', 'of', 'your'): {'questions': 1.0}, ('of', 'your', 'questions'): {'user': 1.0}, ('your', 'questions', 'user'): {'what': 1.0}, ('questions', 'user', 'what'): {'is': 1.0}, ('what', 'is', 'the'): {'capital': 1.0}, ('is', 'the', 'capital'): {'of': 1.0}, ('the', 'capital', 'of'): {'pennsylvania': 1.0}, ('capital', 'of', 'pennsylvania'): {'hal': 0.5, 'is': 0.5}, ('of', 'pennsylvania', 'hal'): {'the': 1.0}, ('pennsylvania', 'hal', 'the'): {'capital': 1.0}, ('hal', 'the', 'capital'): {'of': 1.0}, ('of', 'pennsylvania', 'is'): {'<UNK>': 1.0}, ('pennsylvania', 'is', '<UNK>'): {'user': 1.0}, ('is', '<UNK>', 'user'): {'i': 1.0}, ('user', 'i', 'like'): {'hamsters': 1.0}, ('i', 'like', 'hamsters'): {'hal': 1.0}, ('like', 'hamsters', 'hal'): {'a': 1.0}, ('hamsters', 'hal', 'a'): {'<UNK>': 1.0}, ('hal', 'a', '<UNK>'): {'is': 1.0}, ('a', '<UNK>', 'is'): {'a': 1.0}, ('<UNK>', 'is', 'a'): {'<UNK>': 1.0}, ('is', 'a', '<UNK>'): {'<UNK>': 1.0}, ('<UNK>', '<UNK>', 'with'): {'<UNK>': 1.0}, ('<UNK>', 'with', '<UNK>'): {'<UNK>': 1.0}, ('with', '<UNK>', '<UNK>'): {'and': 1.0}, ('<UNK>', '<UNK>', 'and'): {'<UNK>': 1.0}, ('<UNK>', 'and', '<UNK>'): {'<UNK>': 1.0}, ('and', '<UNK>', '<UNK>'): {'<UNK>': 1.0}, ('<UNK>', '<UNK>', 'hamsters'): {'are': 1.0}, ('<UNK>', 'hamsters', 'are'): {'good': 1.0}, ('hamsters', 'are', 'good'): {'<UNK>': 1.0}, ('are', 'good', '<UNK>'): {'user': 1.0}, ('good', '<UNK>', 'user'): {'<UNK>': 1.0}, ('user', '<UNK>', 'are'): {'you': 1.0}, ('are', 'you', 'hal'): {'my': 1.0}, ('you', 'hal', 'my'): {'<UNK>': 1.0}, ('hal', 'my', '<UNK>'): {'is': 1.0}, ('my', '<UNK>', 'is'): {'hal': 1.0}, ('<UNK>', 'is', 'hal'): {'user': 1.0}, ('is', 'hal', 'user'): {'do': 1.0}, ('hal', 'user', 'do'): {'you': 1.0}, ('user', 'do', 'you'): {'<UNK>': 1.0}, ('do', 'you', '<UNK>'): {'hal': 1.0}, ('hal', '<UNK>', 'i'): {'am': 1.0}, ('<UNK>', 'i', 'am'): {'<UNK>': 1.0}, ('am', '<UNK>', '<UNK>'): {'i': 1.0}, ('<UNK>', 'i', 'user'): {'no': 1.0}, ('i', 'user', 'no'): {'youre': 1.0}, ('user', 'no', 'youre'): {'not': 1.0}, ('no', 'youre', 'not'): {'hal': 1.0}, ('youre', 'not', 'hal'): {'yes': 1.0}, ('not', 'hal', 'yes'): {'i': 1.0}, ('hal', 'yes', 'i'): {'am': 1.0}, ('yes', 'i', 'am'): {'user': 1.0}, ('i', 'am', 'user'): {'no': 0.5, 'dont': 0.5}, ('am', 'user', 'no'): {'youre': 1.0}, ('am', 'user', 'dont'): {'<UNK>': 1.0}, ('user', 'dont', '<UNK>'): {'hal': 1.0}, ('dont', '<UNK>', 'hal'): {'i': 1.0}, ('i', 'am', 'not'): {'<UNK>': 0.5, 'weird': 0.5}, ('am', 'not', '<UNK>'): {'you': 1.0}, ('not', '<UNK>', 'you'): {'are': 1.0}, ('you', 'are', 'user'): {'you': 1.0}, ('are', 'user', 'you'): {'are': 1.0}, ('user', 'you', 'are'): {'weird': 1.0}, ('you', 'are', 'weird'): {'hal': 1.0}, ('are', 'weird', 'hal'): {'i': 1.0}, ('weird', 'hal', 'i'): {'am': 1.0}, ('am', 'not', 'weird'): {'please': 1.0}, ('not', 'weird', 'please'): {'dont': 1.0}, ('weird', 'please', 'dont'): {'<UNK>': 1.0}, ('please', 'dont', '<UNK>'): {'me': 1.0}, ('dont', '<UNK>', 'me'): {'user': 1.0}, ('<UNK>', 'me', 'user'): {'<UNK>': 1.0}, ('me', 'user', '<UNK>'): {'<UNK>': 1.0}, ('hal', 'i', '<UNK>'): {'your': 1.0}, ('i', '<UNK>', 'your'): {'<UNK>': 1.0}, ('<UNK>', 'your', '<UNK>'): {'user': 1.0}, ('your', '<UNK>', 'user'): {'good': 1.0}, ('<UNK>', 'user', 'good'): {'<UNK>': 1.0}, ('user', 'good', '<UNK>'): {'hal': 1.0}, ('good', '<UNK>', 'hal'): {'hal': 1.0}, ('<UNK>', 'hal', 'hal'): {'<UNK>': 1.0}, ('hal', 'hal', '<UNK>'): {'you': 1.0}, ('<UNK>', 'user', 'gr8'): {'hal': 1.0}, ('user', 'gr8', 'hal'): {'yup': 1.0}, ('gr8', 'hal', 'yup'): {'user': 1.0}, ('hal', 'yup', 'user'): {'okkkkkkkkkk': 1.0}, ('yup', 'user', 'okkkkkkkkkk'): {'now': 1.0}, ('user', 'okkkkkkkkkk', 'now'): {'i': 1.0}, ('okkkkkkkkkk', 'now', 'i'): {'am': 1.0}, ('now', 'i', 'am'): {'completely': 1.0}, ('i', 'am', 'completely'): {'dependent': 1.0}, ('am', 'completely', 'dependent'): {'on': 1.0}, ('completely', 'dependent', 'on'): {'u': 1.0}, ('dependent', 'on', 'u'): {'hal': 1.0}, ('on', 'u', 'hal'): {'yeah': 1.0}, ('u', 'hal', 'yeah'): {'user': 0.875}, ('hal', 'yeah', 'user'): {'gr8': 1.0}, ('yeah', 'user', 'gr8'): {'hal': 1.0}})\n",
      "done\n"
     ]
    }
   ],
   "source": [
    "#%%timeit\n",
    "from collections import Counter\n",
    "\n",
    "unigram_table=Counter(unigrams)\n",
    "default=(unigram_table.most_common(1))\n",
    "default=str(default[0][0])\n",
    "default=default.replace('(','').replace(\"'\",'').replace(',','').replace(')','')\n",
    "print(default)\n",
    "\n",
    "trigram_table=Counter(trigrams)   \n",
    "\n",
    "quadgram_table=Counter(quadgrams)\n",
    "for key in quadgram_table:\n",
    "    tri=key[0:3]\n",
    "    quadgram_table[key]=(quadgram_table[key]/trigram_table[tri])\n",
    "import collections\n",
    "prob_table = collections.defaultdict(dict)\n",
    "#prob_table={}\n",
    "for quad in quadgram_table:\n",
    "    p=quadgram_table[quad]\n",
    "    #x=str(quad[0]+' '+quad[1]+' '+quad[2])\n",
    "    tri=quad[0:3]\n",
    "    token=quad[3]\n",
    "    #print(token)\n",
    "    prob_table[tri][token]=p\n",
    "print(prob_table)\n",
    "print(\"done\")"
   ]
  },
  {
   "cell_type": "code",
   "execution_count": 5,
   "metadata": {
    "collapsed": false
   },
   "outputs": [],
   "source": [
    "#code for testing the probabilities\n",
    "# for tri in prob_table:\n",
    "#     y=prob_table[tri]\n",
    "#     tp=0\n",
    "#     for token in y:\n",
    "#         tp+=y[token]\n",
    "#     print(tp)"
   ]
  },
  {
   "cell_type": "code",
   "execution_count": 4,
   "metadata": {
    "collapsed": false
   },
   "outputs": [
    {
     "name": "stdout",
     "output_type": "stream",
     "text": [
      "1.0\n",
      "The next word is: going\n",
      "The sentence might be: so hows it going\n"
     ]
    }
   ],
   "source": [
    "#%%timeit\n",
    "s=\"so hows it\"\n",
    "#s=input(\"Enter a string:\")\n",
    "s_tokens=s.split()\n",
    "#s_filtered_words=[word for word in s_tokens if word not in stopwords.words('english')]\n",
    "#s_tokens=s_filtered_words\n",
    "i=0\n",
    "for w in s_tokens:\n",
    "    s_tokens[i]=w.lower()\n",
    "    s_tokens[i]=s_tokens[i].replace('.','').replace(',','').replace(':','').replace(';','').replace('!','').replace('?','').replace('(','').replace(')','').replace(\"'\",'')                                 \n",
    "    i+=1\n",
    "\n",
    "s_trigrams=list(ngrams(s_tokens, 3))\n",
    "n=len(s_trigrams)\n",
    "req_trigram=s_trigrams[n-1]\n",
    "\n",
    "max_prob=0\n",
    "result=0\n",
    "word=prob_table[req_trigram] \n",
    "\n",
    "for key,value in word.items():\n",
    "    print(word[key])\n",
    "    if(word[key]):\n",
    "        max_prob=value\n",
    "        result=key\n",
    "\n",
    "print(\"The next word is:\", result)\n",
    "\n",
    "result=' '.join(req_trigram)+\" \"+result\n",
    "print(\"The sentence might be:\", result)"
   ]
  }
 ],
 "metadata": {
  "kernelspec": {
   "display_name": "Python 3",
   "language": "python",
   "name": "python3"
  },
  "language_info": {
   "codemirror_mode": {
    "name": "ipython",
    "version": 3
   },
   "file_extension": ".py",
   "mimetype": "text/x-python",
   "name": "python",
   "nbconvert_exporter": "python",
   "pygments_lexer": "ipython3",
   "version": "3.6.0"
  }
 },
 "nbformat": 4,
 "nbformat_minor": 2
}
