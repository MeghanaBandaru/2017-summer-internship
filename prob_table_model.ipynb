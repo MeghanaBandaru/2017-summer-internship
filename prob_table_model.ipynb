{
 "cells": [
  {
   "cell_type": "markdown",
   "metadata": {},
   "source": [
    "# Quadgram model"
   ]
  },
  {
   "cell_type": "code",
   "execution_count": 1,
   "metadata": {
    "collapsed": true
   },
   "outputs": [],
   "source": [
    "from nltk.util import ngrams\n",
    "from nltk.corpus import stopwords\n",
    "import nltk\n",
    "from collections import Counter\n",
    "from collections import defaultdict"
   ]
  },
  {
   "cell_type": "markdown",
   "metadata": {},
   "source": [
    "## Preprocessing the tokens"
   ]
  },
  {
   "cell_type": "code",
   "execution_count": 2,
   "metadata": {
    "collapsed": true
   },
   "outputs": [],
   "source": [
    "def getTokens(file):\n",
    "    tokens=[]\n",
    "    with open(file) as f:\n",
    "        for line in f:\n",
    "            if not line.isspace():\n",
    "                line=line.lower()\n",
    "                line=line.replace('.',' ').replace(',',' ').replace(':',' ').replace(';',' ').replace('!',' ').replace('?',' ').replace('(',' ').replace(')',' ').replace(\"-\",\" \").replace(\"' \",' ').replace('\"',' ').replace(\"_\",\" \").replace('[',' ').replace(']',' ')\n",
    "            items=line.split()\n",
    "            tokens+=items\n",
    "    return tokens"
   ]
  },
  {
   "cell_type": "markdown",
   "metadata": {},
   "source": [
    "## Building a probability table that stores the probabilities of different tokens with a particular trigram"
   ]
  },
  {
   "cell_type": "code",
   "execution_count": 3,
   "metadata": {
    "collapsed": true
   },
   "outputs": [],
   "source": [
    "def build_quadgram_table(trigrams,quadgrams):\n",
    "    trigram_table=Counter(trigrams)#stores the frequencies of each trigram\n",
    "    quadgram_table=Counter(quadgrams)#stores the frequencies of each quadgram\n",
    "\n",
    "    for key in quadgram_table:\n",
    "        tri=key[0:3]\n",
    "        quadgram_table[key]=(quadgram_table[key]/trigram_table[tri])#Now the quadgram table will contain probabilities of each quadgram\n",
    "    return quadgram_table   "
   ]
  },
  {
   "cell_type": "code",
   "execution_count": 4,
   "metadata": {
    "collapsed": true
   },
   "outputs": [],
   "source": [
    "def build_prob_table(quadgram_table):\n",
    "    prob_table = defaultdict(dict)\n",
    "\n",
    "    #Constructing a probabiltity table which looks like this:\n",
    "    #{tri1:{token1:0.2, token5:0.5, tokenn:0.3}\n",
    "    # tri2:{........}\n",
    "    # tri3:{        }\n",
    "    # .....\n",
    "    # trin:{........}}\n",
    "    for quad in quadgram_table:\n",
    "        p=quadgram_table[quad]\n",
    "        tri=quad[0:3]\n",
    "        token=quad[3]\n",
    "        prob_table[tri][token]=p\n",
    "\n",
    "    for tri in prob_table:\n",
    "        prob_table[tri]=sorted(prob_table[tri].items(), key=lambda x: x[1], reverse=True)\n",
    "        \n",
    "    return prob_table"
   ]
  },
  {
   "cell_type": "markdown",
   "metadata": {},
   "source": [
    "## Function to predict the next word "
   ]
  },
  {
   "cell_type": "code",
   "execution_count": 8,
   "metadata": {
    "collapsed": true
   },
   "outputs": [],
   "source": [
    "def predict(word,x=1):\n",
    "    max_prob=0\n",
    "    result='0'\n",
    "    \n",
    "    n=len(word)\n",
    "    if(x>n):\n",
    "        n=n\n",
    "    else:\n",
    "        n=x\n",
    "    result=word[n-1]\n",
    "    #print(result[0])\n",
    "\n",
    "    #print(\"The next word is:\", result[0])\n",
    "    return result[0]"
   ]
  },
  {
   "cell_type": "markdown",
   "metadata": {},
   "source": [
    "## Main driver function"
   ]
  },
  {
   "cell_type": "code",
   "execution_count": 9,
   "metadata": {
    "collapsed": false
   },
   "outputs": [
    {
     "name": "stdout",
     "output_type": "stream",
     "text": [
      "1416799\n",
      "1858040\n",
      "enter n:2\n",
      "The next word is: his\n"
     ]
    }
   ],
   "source": [
    "if __name__=='__main__':\n",
    "    \n",
    "    tokens=getTokens('/home/meghana/nltk_data/corpora/gutenberg/corpusfile.txt')\n",
    "    tokenSet=set(tokens)\n",
    "    \n",
    "    trigrams=list(ngrams(tokens,3))\n",
    "    trigramSet=set(trigrams)\n",
    "    quadgrams=list(ngrams(tokens,4))\n",
    "    quadgramSet=set(quadgrams)\n",
    "\n",
    "    print(len(trigramSet))\n",
    "    print(len(quadgramSet))\n",
    "    \n",
    "    quadgram_table=build_quadgram_table(trigrams,quadgrams)\n",
    "    prob_table=build_prob_table(quadgram_table)\n",
    "    \n",
    "    #s=input(\"Enter a string:\")\n",
    "    s=\"she is the youngest of\"# a sentence in corpus. We need to find the next word for this sentence\n",
    "    x=int(input(\"enter n:\"))\n",
    "\n",
    "    \n",
    "    s=s.lower()\n",
    "    s=s.replace('.',' ').replace(',',' ').replace(':',' ').replace(';',' ').replace('!',' ').replace('?',' ').replace('(',' ').replace(')',' ').replace(\"-\",\" \").replace(\"' \",' ').replace('\"',' ').replace(\"_\",\" \").replace('[',' ').replace(']',' ')                                 \n",
    "    s_tokens=s.split()\n",
    "    \n",
    "    s_trigrams=list(ngrams(s_tokens, 3))\n",
    "    n=len(s_trigrams)\n",
    "    req_trigram=s_trigrams[n-1]#taking the last trigram to predict the next word\n",
    "    word=prob_table[req_trigram]#word is a list of tokens that are possible to occur after the required trigram\n",
    "    result=predict(word,x)\n",
    "    print(\"The next word is:\", result)\n",
    "   \n",
    "    "
   ]
  }
 ],
 "metadata": {
  "kernelspec": {
   "display_name": "Python 3",
   "language": "python",
   "name": "python3"
  },
  "language_info": {
   "codemirror_mode": {
    "name": "ipython",
    "version": 3
   },
   "file_extension": ".py",
   "mimetype": "text/x-python",
   "name": "python",
   "nbconvert_exporter": "python",
   "pygments_lexer": "ipython3",
   "version": "3.6.0"
  }
 },
 "nbformat": 4,
 "nbformat_minor": 2
}
