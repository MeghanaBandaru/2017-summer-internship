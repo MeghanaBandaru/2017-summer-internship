{
 "cells": [
  {
   "cell_type": "markdown",
   "metadata": {},
   "source": [
    "## This program is the implementation of interpolation using 3 prob_tables:quad, tri and bi"
   ]
  },
  {
   "cell_type": "code",
   "execution_count": 1,
   "metadata": {
    "collapsed": true
   },
   "outputs": [],
   "source": [
    "from nltk.util import ngrams\n",
    "from nltk.corpus import stopwords\n",
    "import nltk\n",
    "from collections import Counter\n",
    "from collections import defaultdict"
   ]
  },
  {
   "cell_type": "code",
   "execution_count": 5,
   "metadata": {},
   "outputs": [
    {
     "name": "stdout",
     "output_type": "stream",
     "text": [
      "2100963\n",
      "43538\n"
     ]
    }
   ],
   "source": [
    "tokens=[]\n",
    "with open('/users/user/Desktop/Meghana/nltk_data/corpora/gutenberg/corpusfile.txt') as f:\n",
    "\n",
    "    for line in f:\n",
    "        if not line.isspace():\n",
    "            line=line.lower()\n",
    "            line=line.replace('.',' ').replace(',',' ').replace(':',' ').replace(';',' ').replace('!',' ').replace('?',' ').replace('(',' ').replace(')',' ').replace(\"-\",\" \").replace(\"' \",' ').replace('\"',' ').replace(\"_\",\" \")\n",
    "        items=line.split()\n",
    "        tokens+=items    \n",
    "tokenSet=set(tokens)\n",
    "\n",
    "print(len(tokens))\n",
    "print(len(tokenSet))"
   ]
  },
  {
   "cell_type": "code",
   "execution_count": 7,
   "metadata": {},
   "outputs": [
    {
     "name": "stdout",
     "output_type": "stream",
     "text": [
      "1416832\n",
      "1858053\n"
     ]
    }
   ],
   "source": [
    "bigrams=list(ngrams(tokens,2))\n",
    "trigrams=list(ngrams(tokens,3))\n",
    "trigramSet=set(trigrams)\n",
    "quadgrams=list(ngrams(tokens,4))\n",
    "quadgramSet=set(quadgrams)\n",
    "\n",
    "print(len(trigramSet))\n",
    "print(len(quadgramSet))\n",
    "\n",
    "unigram_table=Counter(tokens)\n",
    "bigram_table=Counter(bigrams)\n",
    "trigram_table=Counter(trigrams)#stores the frequencies of each trigram\n",
    "quadgram_table=Counter(quadgrams)#stores the frequencies of each quadgram\n",
    "\n",
    "for key in quadgram_table:\n",
    "    tri=key[0:3]\n",
    "    quadgram_table[key]=(quadgram_table[key]/trigram_table[tri])#Now the quadgram table will contain probabilities of each quadgram\n",
    "\n",
    "for key in trigram_table:\n",
    "    bi=key[0:2]\n",
    "    trigram_table[key]=(trigram_table[key]/bigram_table[bi])\n",
    "for key in bigram_table:\n",
    "    uni=key[0]\n",
    "    bigram_table[key]=(bigram_table[key]/unigram_table[uni])\n",
    "for key in unigram_table:\n",
    "    n=len(tokens)\n",
    "    unigram_table[key]=(unigram_table[key]/n)\n"
   ]
  },
  {
   "cell_type": "code",
   "execution_count": 9,
   "metadata": {},
   "outputs": [],
   "source": [
    "quad_prob_table = defaultdict(dict)\n",
    "tri_prob_table = defaultdict(dict)\n",
    "bi_prob_table = defaultdict(dict)\n",
    "\n",
    "#Constructing a probabiltity table which looks like this:\n",
    "#{tri1:{token1:0.2, token5:0.5, tokenn:0.3}\n",
    "# tri2:{........}\n",
    "# tri3:{        }\n",
    "# .....\n",
    "# trin:{........}}\n",
    "for quad in quadgram_table:\n",
    "    p=0.25*(quadgram_table[quad]+trigram_table[quad[0:3]]+bigram_table[quad[0:2]]+unigram_table[quad[0]])\n",
    "    tri=quad[0:3]\n",
    "    token=quad[3]\n",
    "    quad_prob_table[tri][token]=p\n",
    "\n",
    "for tri in quad_prob_table:\n",
    "    quad_prob_table[tri]=sorted(quad_prob_table[tri].items(), key=lambda x: x[1], reverse=True)\n",
    "\n",
    "\n",
    "for tri in trigram_table:\n",
    "    p=0.3*(trigram_table[tri]+bigram_table[tri[0:1]]+unigram_table[tri[0]])\n",
    "    bi=tri[0:2]\n",
    "    token=tri[2]\n",
    "    tri_prob_table[bi][token]=p\n",
    "\n",
    "for bi in tri_prob_table:\n",
    "    tri_prob_table[bi]=sorted(tri_prob_table[bi].items(), key=lambda x: x[1], reverse=True)\n",
    "\n",
    "for bi in bigram_table:\n",
    "    p=0.5*(bigram_table[bi]+unigram_table[bi[0]])\n",
    "    uni=bi[0]\n",
    "    token=bi[1]\n",
    "    bi_prob_table[uni][token]=p\n",
    "\n",
    "for uni in bi_prob_table:\n",
    "    bi_prob_table[uni]=sorted(bi_prob_table[uni].items(), key=lambda x: x[1], reverse=True)\n"
   ]
  },
  {
   "cell_type": "code",
   "execution_count": 42,
   "metadata": {},
   "outputs": [
    {
     "name": "stdout",
     "output_type": "stream",
     "text": [
      "('youngest', 'of', 'the')\n",
      "('of', 'the')\n",
      "the\n",
      "[('two', 0.32825691123546674), ('lord', 0.057648761630511), ('lord', 0.03811642272235546)]\n",
      "two\n"
     ]
    }
   ],
   "source": [
    "#s=input(\"Enter a string:\")\n",
    "s=\"she is the youngest of the\"# a sentence in corpus. We need to find the next word for this sentence\n",
    "\n",
    "s=s.lower()\n",
    "s=s.replace('.',' ').replace(',',' ').replace(':',' ').replace(';',' ').replace('!',' ').replace('?',' ').replace('(',' ').replace(')',' ').replace(\"' \",' ').replace(\"-\",\" \").replace('\"',' ').replace(\"_\",\" \")                                 \n",
    "s_tokens=s.split()\n",
    "\n",
    "n=len(s_tokens)\n",
    "s_trigram=tuple(s_tokens[n-3:n])\n",
    "s_bigram=tuple(s_tokens[n-2:n])\n",
    "s_unigram=s_tokens[n-1]\n",
    "\n",
    "print(s_trigram)\n",
    "print(s_bigram)\n",
    "print(s_unigram)\n",
    "\n",
    "qword=quad_prob_table[(s_trigram)]#word is a list of tokens that are possible to occur after the required trigram\n",
    "tword=tri_prob_table[(s_bigram)]\n",
    "bword=bi_prob_table[s_unigram]\n",
    "prediction=[]\n",
    "prediction.append(qword[0])\n",
    "prediction.append(tword[0])\n",
    "prediction.append(bword[0])\n",
    "prediction=sorted(prediction, key=lambda x: x[1],reverse=True)\n",
    "print(prediction)\n",
    "# print(qword[0][0])\n",
    "# print(tword[0][0])\n",
    "# print(bword[0][0])\n",
    "print(prediction[0][0])\n"
   ]
  }
 ],
 "metadata": {
  "kernelspec": {
   "display_name": "Python 3",
   "language": "python",
   "name": "python3"
  },
  "language_info": {
   "codemirror_mode": {
    "name": "ipython",
    "version": 3
   },
   "file_extension": ".py",
   "mimetype": "text/x-python",
   "name": "python",
   "nbconvert_exporter": "python",
   "pygments_lexer": "ipython3",
   "version": "3.6.1"
  }
 },
 "nbformat": 4,
 "nbformat_minor": 2
}
