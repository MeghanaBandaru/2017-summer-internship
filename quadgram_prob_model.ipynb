{
 "cells": [
  {
   "cell_type": "code",
   "execution_count": 72,
   "metadata": {
    "collapsed": false
   },
   "outputs": [
    {
     "name": "stdout",
     "output_type": "stream",
     "text": [
      "2053640\n",
      "62705\n"
     ]
    }
   ],
   "source": [
    "from nltk.util import ngrams\n",
    "from nltk.corpus import stopwords\n",
    "import nltk\n",
    "tokens=[]\n",
    "#with open('/home/meghana/new_jupyter/assign1/Data/Tokenization/Chat1.txt') as f:\n",
    "with open('/home/meghana/nltk_data/corpora/gutenberg/corpusfile.txt') as f:\n",
    "\n",
    "    for line in f:\n",
    "        if not line.isspace():\n",
    "            items=line.split()\n",
    "            #print(\"words in list;\",items)\n",
    "            i=0\n",
    "            for w in items:\n",
    "                items[i]=w.lower()\n",
    "                items[i]=items[i].replace('.','').replace(',','').replace(':','').replace(';','').replace('!','').replace('?','').replace('(','').replace(')','').replace(\"'\",'')                                 \n",
    "                i+=1\n",
    "            tokens+=items\n",
    "tokenSet=set(tokens)\n",
    "print(len(tokens))\n",
    "print(len(tokenSet))"
   ]
  },
  {
   "cell_type": "code",
   "execution_count": 73,
   "metadata": {
    "collapsed": false
   },
   "outputs": [
    {
     "name": "stdout",
     "output_type": "stream",
     "text": [
      "1421195\n",
      "1826910\n"
     ]
    }
   ],
   "source": [
    "unigrams=list(ngrams(tokens,1))\n",
    "trigrams=list(ngrams(tokens,3))\n",
    "trigramSet=set(trigrams)\n",
    "quadgrams=list(ngrams(tokens,4))\n",
    "quadgramSet=set(quadgrams)\n",
    "print(len(trigramSet))\n",
    "print(len(quadgramSet))"
   ]
  },
  {
   "cell_type": "code",
   "execution_count": 75,
   "metadata": {
    "collapsed": false
   },
   "outputs": [],
   "source": [
    "# unigram_table=Counter(unigrams)\n",
    "# default=(unigram_table.most_common(1))\n",
    "# default=str(default[0][0])\n",
    "# default=default.replace('(','').replace(\"'\",'').replace(',','').replace(')','')\n",
    "# print(default)\n",
    "\n",
    "# trigram_list=[]\n",
    "# for item in trigrams:\n",
    "#     new_item=' '.join(item)\n",
    "#     trigram_list.append(new_item)\n",
    "from collections import Counter\n",
    "\n",
    "trigram_table=Counter(trigrams) \n",
    "p=0\n",
    "# for item in trigram:\n",
    "#     p=p+(tokens.count(item)/\n",
    "#print(trigram_table)\n",
    "\n",
    "\n",
    "# quadgram_list=[]\n",
    "# for item in quadgrams:\n",
    "#     new_item=' '.join(item)\n",
    "#     quadgram_list.append(new_item)\n",
    "#tokenSet=tuple(tokenSet)\n",
    "#print(type(tokenSet))\n",
    "quadgram_table=Counter(quadgrams)  \n",
    "#print(quadgram_table)\n",
    "for key in quadgram_table:\n",
    "    tri=key[0:3]\n",
    "    quadgram_table[key]=quadgram_table[key]/trigram_table[tri]\n",
    "# for item in quadgram_table:\n",
    "#     item=item[0:3]\n",
    "#     tp=0\n",
    "#     for key, value in quadgram_table.items():   # iter on both keys and values\n",
    "#         if key[0:3]==item:\n",
    "#             tp+=value\n",
    "#             print (key, value)\n",
    "#     print(\"total probability is:\",tp)\n",
    "    #p=p+quadgram_table[item]\n",
    "#print(quadgram_table.most_common(10))\n",
    "# print(quadgram_table)\n",
    "# sum(quadgram_table.values())/len(trigramSet)\n"
   ]
  }
 ],
 "metadata": {
  "kernelspec": {
   "display_name": "Python 3",
   "language": "python",
   "name": "python3"
  },
  "language_info": {
   "codemirror_mode": {
    "name": "ipython",
    "version": 3
   },
   "file_extension": ".py",
   "mimetype": "text/x-python",
   "name": "python",
   "nbconvert_exporter": "python",
   "pygments_lexer": "ipython3",
   "version": "3.6.0"
  }
 },
 "nbformat": 4,
 "nbformat_minor": 2
}
